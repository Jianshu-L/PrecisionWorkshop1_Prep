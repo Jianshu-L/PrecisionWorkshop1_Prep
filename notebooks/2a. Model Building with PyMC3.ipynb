{
 "cells": [
  {
   "cell_type": "code",
   "execution_count": null,
   "metadata": {
    "collapsed": true
   },
   "outputs": [],
   "source": []
  },
  {
   "cell_type": "markdown",
   "metadata": {},
   "source": [
    "## Introduction\n",
    "\n",
    "As noted in the previous notebooks, Bayesian inference begins with specification of a probability model relating unknown variables to data. PyMC3 provides the basic building blocks for Bayesian probability models: stochastic random variables, deterministic variables, and factor potentials.\n",
    "\n",
    "A **stochastic random variable** is a factor whose value is not completely determined by its parents, while the value of a **deterministic random variable** is entirely determined by its parents. Most models can be constructed using only these two variable types. The third quantity, the **factor potential**, is *not* a variable but simply a\n",
    "log-likelihood term or constraint that is added to the joint log-probability to modify it. "
   ]
  },
  {
   "cell_type": "markdown",
   "metadata": {},
   "source": [
    "## The FreeRV class\n",
    "\n",
    "A stochastic variable is represented in PyMC3 by a `FreeRV` class. This structure adds functionality to Theano's `TensorVariable` class, by mixing in the PyMC `Factor` class. A `Factor` is used whenever a variable contributes a log-probability term to a model. Hence, you know a variable is a subclass of `Factor` whenever it has a `logp` method, as we saw in the previous section.\n",
    "\n",
    "A `FreeRV` object has several important attributes:\n",
    "\n",
    "`dshape`\n",
    ":   The variable's shape.\n",
    "\n",
    "`dsize`\n",
    ":   The overall size of the variable.\n",
    "\n",
    "`distribution`\n",
    ":   The probability density or mass function that describes the distribution of the variable's values.\n",
    "\n",
    "`logp`\n",
    ":   The log-probability of the variable's current value given the values\n",
    "    of its parents.\n",
    "\n",
    "`init_value`\n",
    ":   The initial value of the variable, used by many algorithms as a starting point for model fitting.\n",
    "\n",
    "`model`\n",
    ":   The PyMC model to which the variable belongs.\n",
    "\n",
    "\n",
    "### Creation of stochastic random variables\n",
    "\n",
    "There are two ways to create stochastic random variables (`FreeRV` objects), which we will call the **automatic**, and **manual** interfaces.\n",
    "\n",
    "#### Automatic\n",
    "\n",
    "Stochastic random variables with standard distributions provided by PyMC3 can be created in a single line using special subclasses of the `Distribution` class. For example, as we have seen, the uniformly-distributed discrete variable $switchpoint$ in the coal mining disasters model (notebook 1b) is created using the automatic interface as follows:"
   ]
  },
  {
   "cell_type": "code",
   "execution_count": 1,
   "metadata": {
    "collapsed": true
   },
   "outputs": [],
   "source": [
    "import pymc3 as pm\n",
    "\n",
    "with pm.Model() as disaster_model:\n",
    "\n",
    "    switchpoint = pm.DiscreteUniform('switchpoint', lower=0, upper=110)"
   ]
  },
  {
   "cell_type": "markdown",
   "metadata": {},
   "source": [
    "Similarly, the rate parameters can automatically be given exponential priors:"
   ]
  },
  {
   "cell_type": "code",
   "execution_count": 2,
   "metadata": {
    "collapsed": true
   },
   "outputs": [],
   "source": [
    "with disaster_model:\n",
    "    early_mean = pm.Exponential('early_mean', lam=1)\n",
    "    late_mean = pm.Exponential('late_mean', lam=1)"
   ]
  },
  {
   "cell_type": "markdown",
   "metadata": {},
   "source": [
    "PyMC includes most of the probability density functions (for continuous variables) and probability mass functions (for discrete variables) used in statistical modeling. Continuous variables are represented by a specialized subclass of `Distribution` called `Continuous` and discrete variables by the `Discrete` subclass.\n",
    "\n",
    "The main differences between these two subclasses are in the `dtype` attribute (`int64` for `Discrete` and `float64` for `Continuous`) and the `defaults` attribute, which determines which summary statistic to use for initial values when one is not specified ('mode' for `Discrete` and 'median', 'mean', and 'mode' for `Continuous`)."
   ]
  },
  {
   "cell_type": "code",
   "execution_count": 3,
   "metadata": {},
   "outputs": [
    {
     "data": {
      "text/plain": [
       "('mode',)"
      ]
     },
     "execution_count": 3,
     "metadata": {},
     "output_type": "execute_result"
    }
   ],
   "source": [
    "switchpoint.distribution.defaults"
   ]
  },
  {
   "cell_type": "markdown",
   "metadata": {},
   "source": [
    "As we previewed in the introduction, `Distribution` has a class method `dist` that returns a probability distribution of that type, without being wrapped in a PyMC random variable object. Sometimes we wish to use a particular statistical distribution, without using it as a variable in a model; for example, to generate random numbers from the distribution. This class method allows that."
   ]
  },
  {
   "cell_type": "code",
   "execution_count": 4,
   "metadata": {
    "collapsed": true
   },
   "outputs": [],
   "source": [
    "my_exp = pm.Exponential.dist(1)"
   ]
  },
  {
   "cell_type": "markdown",
   "metadata": {},
   "source": [
    "And the following method call draws 10 samples from the Exponential distribution with $\\lambda=1$."
   ]
  },
  {
   "cell_type": "code",
   "execution_count": 5,
   "metadata": {},
   "outputs": [
    {
     "data": {
      "text/plain": [
       "array([ 0.00791718,  1.22881018,  0.8100877 ,  1.02283555,  1.20806063,\n",
       "        0.78535681,  1.70708152,  0.8206476 ,  0.1752859 ,  1.22600215])"
      ]
     },
     "execution_count": 5,
     "metadata": {},
     "output_type": "execute_result"
    }
   ],
   "source": [
    "my_exp.random(size=10)"
   ]
  },
  {
   "cell_type": "markdown",
   "metadata": {},
   "source": [
    "#### Manual\n",
    "\n",
    "The uniformly-distributed discrete stochastic variable `switchpoint` in the disasters model could alternatively be created from a function that computes its log-probability as follows:"
   ]
  },
  {
   "cell_type": "code",
   "execution_count": 6,
   "metadata": {
    "collapsed": true
   },
   "outputs": [],
   "source": [
    "import theano.tensor as tt"
   ]
  },
  {
   "cell_type": "code",
   "execution_count": 7,
   "metadata": {
    "collapsed": true
   },
   "outputs": [],
   "source": [
    "import numpy as np\n",
    "from pymc3.math import switch, log\n",
    "\n",
    "with pm.Model():  \n",
    "\n",
    "    \n",
    "    def uniform_logp(value, lower=0, upper=111):\n",
    "        \"\"\"The switchpoint for the rate of disaster occurrence.\"\"\"\n",
    "        return switch((value > upper) | (value < lower), -np.inf, -log(upper - lower + 1))\n",
    "\n",
    "    switchpoint = pm.DensityDist('switchpoint', logp=uniform_logp, dtype='int64')"
   ]
  },
  {
   "cell_type": "code",
   "execution_count": 8,
   "metadata": {},
   "outputs": [
    {
     "data": {
      "text/plain": [
       "array(-4.718498706817627, dtype=float32)"
      ]
     },
     "execution_count": 8,
     "metadata": {},
     "output_type": "execute_result"
    }
   ],
   "source": [
    "switchpoint.logp({'switchpoint':4})"
   ]
  },
  {
   "cell_type": "code",
   "execution_count": 9,
   "metadata": {},
   "outputs": [
    {
     "data": {
      "text/plain": [
       "array(-inf, dtype=float32)"
      ]
     },
     "execution_count": 9,
     "metadata": {},
     "output_type": "execute_result"
    }
   ],
   "source": [
    "switchpoint.logp({'switchpoint': 112})"
   ]
  },
  {
   "cell_type": "code",
   "execution_count": 10,
   "metadata": {},
   "outputs": [
    {
     "data": {
      "text/plain": [
       "array(-inf, dtype=float32)"
      ]
     },
     "execution_count": 10,
     "metadata": {},
     "output_type": "execute_result"
    }
   ],
   "source": [
    "switchpoint.logp({'switchpoint':-1})"
   ]
  },
  {
   "cell_type": "markdown",
   "metadata": {},
   "source": [
    "A couple of things to notice: while the function specified for the `logp` argument can be an arbitrary Python function, it must use **Theano operators and functions** in its body. This is because one or more of the arguments passed to the function may be `TensorVariables`, and they must be supported. Also, we passed the value to be evaluated by the `logp` function as a **dictionary**, rather than as a plain integer. By convention, values in PyMC3 are passed around as a data structure called a `Point`. Points in parameter space are represented by dictionaries with parameter names as they keys and the value of the parameters as the values.\n",
    "\n",
    "To emphasize, the Python function passed to `DensityDist` should compute the *log*-density or *log*-probability of the variable. That is why the return value in the example above is `-log(upper-lower+1)` rather than `1/(upper-lower+1)`."
   ]
  },
  {
   "cell_type": "markdown",
   "metadata": {},
   "source": [
    "### Specifying Custom Distributions\n",
    "\n",
    "Similarly, the library of statistical distributions in PyMC3 is not exhaustive, but PyMC allows for the creation of user-defined functions for an **arbitrary probability distribution**. For simple statistical distributions, the `DensityDist` function takes as an argument any function that calculates a log-probability $log(p(x))$. This function may employ other random variables in its calculation. \n",
    "\n",
    "\n",
    "\n",
    "Here is a simple example inspired by a blog post by Jake Vanderplas (Vanderplas, 2014), where Jeffreys priors are used to specify priors that are invariant to transformation. In the case of simple linear regression, these are:\n",
    "\n",
    "$$\\beta \\propto (1+\\beta^2)^{3/2}$$\n",
    "\n",
    "$$\\sigma \\propto \\frac{1}{\\alpha}$$\n",
    "\n",
    "The logarithms of these functions can be specified as the argument to DensityDist and inserted into the model.\n",
    "\n",
    "```python\n",
    "import theano.tensor as T\n",
    "from pymc3 import DensityDist, Uniform\n",
    "\n",
    "with Model() as model:\n",
    "    alpha = Uniform('intercept', -100, 100)\n",
    "    \n",
    "    # Create custom densities\n",
    "    beta = DensityDist('beta', lambda value: -1.5 * T.log(1 + value**2), testval=0)\n",
    "    eps = DensityDist('eps', lambda value: -T.log(T.abs_(value)), testval=1)\n",
    "    \n",
    "    # Create likelihood\n",
    "    like = Normal('y_est', mu=alpha + beta * X, sd=eps, observed=Y)\n",
    "```"
   ]
  },
  {
   "cell_type": "markdown",
   "metadata": {},
   "source": [
    "## The ObservedRV Class\n",
    "\n",
    "Stochastic random variables whose values are observed (*i.e.* data likelihoods) are represented by a different class than unobserved random variables. A `ObservedRV` object is instantiated any time a stochastic variable is specified with data passed as the `observed` argument. \n",
    "\n",
    "Otherwise, observed stochastic random variables are created via the same interfaces as unobserved: **automatic** or **manual**. As an example of an automatic instantiation, consider a Poisson data likelihood :"
   ]
  },
  {
   "cell_type": "code",
   "execution_count": 11,
   "metadata": {
    "collapsed": true
   },
   "outputs": [],
   "source": [
    "with disaster_model:\n",
    "    \n",
    "    disasters = pm.Poisson('disasters', mu=3, observed=[3,4,1,2,0,2,2])"
   ]
  },
  {
   "cell_type": "markdown",
   "metadata": {},
   "source": [
    "Here is an example of manual instantiation using the `DensityDist` class for an exponential survival likelihood:\n",
    "\n",
    "```python\n",
    "def logp(failure, value):\n",
    "    return (failure * log(lam) - lam * value).sum()\n",
    "\n",
    "x = DensityDist('x', logp, observed={'failure':failure, 'value':t})\n",
    "```\n",
    "\n",
    "Notice in this example that there are two vectors observed data for the likelihood `x`, passed as a dictionary."
   ]
  },
  {
   "cell_type": "markdown",
   "metadata": {},
   "source": [
    "An important responsibility of `ObservedRV` is to automatically handle missing values in the data, when they are present (absent?). More on this later."
   ]
  },
  {
   "cell_type": "markdown",
   "metadata": {},
   "source": [
    "## Deterministic Variables\n",
    "\n",
    "A deterministic variable is one whose values are **completely determined** by the values of their parents. For example, in our disasters model, `rate` is a deterministic variable."
   ]
  },
  {
   "cell_type": "code",
   "execution_count": 12,
   "metadata": {
    "collapsed": true
   },
   "outputs": [],
   "source": [
    "with disaster_model:\n",
    "    \n",
    "    rate = pm.Deterministic('rate', switch(switchpoint >= np.arange(112), early_mean, late_mean))"
   ]
  },
  {
   "cell_type": "markdown",
   "metadata": {},
   "source": [
    "so `rate`'s value can be computed exactly from the values of its parents `early_mean`, `late_mean` and `switchpoint`.\n",
    "\n",
    "There are two types of deterministic variables in PyMC3\n",
    "\n",
    "#### Anonymous deterministic variables\n",
    "\n",
    "The easiest way to create a deterministic variable is to operate on or transform one or more variables in a model directly. For example, the simplest way to specify the `rate` variable above is as follows:"
   ]
  },
  {
   "cell_type": "code",
   "execution_count": 13,
   "metadata": {
    "collapsed": true
   },
   "outputs": [],
   "source": [
    "with disaster_model:\n",
    "    \n",
    "    rate = switch(switchpoint >= np.arange(112), early_mean, late_mean)"
   ]
  },
  {
   "cell_type": "markdown",
   "metadata": {},
   "source": [
    "Or, let's say we wanted to use the mean of the `early_mean` and `late_mean` variables somehere in our model:"
   ]
  },
  {
   "cell_type": "code",
   "execution_count": 14,
   "metadata": {
    "collapsed": true
   },
   "outputs": [],
   "source": [
    "with disaster_model:\n",
    "    \n",
    "    diff_means = pm.Deterministic('diff_means', early_mean - late_mean)"
   ]
  },
  {
   "cell_type": "markdown",
   "metadata": {},
   "source": [
    "These are called *anonymous* variables because we did not wrap it with a call to `Determinstic`, which gives it a name as its first argument. We simply specified the variable as a Python (or, Theano) expression. This is therefore the simplest way to construct a determinstic variable. The only caveat is that the values generated by anonymous determinstics at every MCMC iteration of are not recorded to the resulting trace. So, this approach is only appropriate for intermediate values in your model that you do not wish to obtain posterior estimates for, alongside the other variables in the model."
   ]
  },
  {
   "cell_type": "markdown",
   "metadata": {},
   "source": [
    "#### Named deterministic variables\n",
    "\n",
    "To ensure that deterministic variables' values are accumulated during sampling, they should be instantiated using the **named deterministic** interface; this uses the `Deterministic` function to create the variable. Two things happen when a variable is created this way:\n",
    "\n",
    "1. The variable is given a name (passed as the first argument)\n",
    "2. The variable is appended to the model's list of random variables, which ensures that its values are tallied.\n"
   ]
  },
  {
   "cell_type": "markdown",
   "metadata": {},
   "source": [
    "```python\n",
    "with disaster_model:\n",
    "    \n",
    "    rate = pm.Deterministic('rate', switch(switchpoint >= np.arange(112), early_mean, late_mean))\n",
    "```"
   ]
  },
  {
   "cell_type": "code",
   "execution_count": 15,
   "metadata": {},
   "outputs": [
    {
     "data": {
      "text/plain": [
       "{'diff_means': diff_means,\n",
       " 'disasters': disasters,\n",
       " 'early_mean': early_mean,\n",
       " 'early_mean_log__': early_mean_log__,\n",
       " 'late_mean': late_mean,\n",
       " 'late_mean_log__': late_mean_log__,\n",
       " 'rate': rate,\n",
       " 'switchpoint': switchpoint}"
      ]
     },
     "execution_count": 15,
     "metadata": {},
     "output_type": "execute_result"
    }
   ],
   "source": [
    "disaster_model.named_vars"
   ]
  },
  {
   "cell_type": "markdown",
   "metadata": {},
   "source": [
    "## Factor Potentials\n",
    "\n",
    "For some applications, we want to be able to modify the joint density by incorporating terms that don't correspond to probabilities of variables conditional on parents, for example:\n",
    "\n",
    "$$p(x_0, x_2, \\ldots x_{N-1}) \\propto \\prod_{i=0}^{N-2} \\psi_i(x_i, x_{i+1})$$\n",
    "\n",
    "In other cases we may want to add probability terms to existing models. For example, suppose we want to constrain the difference between the early and late means in the disaster model to be less than 1, so that the joint density becomes: \n",
    "\n",
    "$$p(y,\\tau,\\lambda_1,\\lambda_2) \\propto p(y|\\tau,\\lambda_1,\\lambda_2) p(\\tau) p(\\lambda_1) p(\\lambda_2) I(|\\lambda_2-\\lambda_1| \\lt 1)$$\n",
    "\n",
    "We call such log-probability terms **factor potentials** (Jordan 2004). Bayesian hierarchical notation doesn't accomodate these potentials. \n",
    "\n",
    "### Creation of Potentials\n",
    "\n",
    "A potential can be created via the `Potential` function, in a way very similar to `Deterministic`'s named interface:"
   ]
  },
  {
   "cell_type": "code",
   "execution_count": 16,
   "metadata": {
    "collapsed": true
   },
   "outputs": [],
   "source": [
    "with disaster_model:\n",
    "    \n",
    "    rate_constraint = pm.Potential('rate_constraint', switch(pm.math.abs_(early_mean-late_mean)>1, -np.inf, 0))"
   ]
  },
  {
   "cell_type": "markdown",
   "metadata": {},
   "source": [
    "The function takes just a `name` as its first argument and an expression returning the appropriate log-probability as the second argument.\n",
    "\n",
    "Note that in the future, factor potentials will be key in studying undirected *probabilistic graphical models* (e.g. Conditional Random Fields), which can in some cases be built from *factor graphs* (= products of factor potentials).  Thus getting familiar with the concept will also help us in the future."
   ]
  },
  {
   "cell_type": "markdown",
   "metadata": {},
   "source": [
    "## Exercise 1 - face detection\n",
    "\n",
    "We will write a detector of faces from facial features: eyes, nose and mouth.  One of the ways this can be done is to have a classifier for each feature and if a candidate set is identified, ensure that the features are in a configuration that is compatible with a face.\n",
    "\n",
    "While each facial feature will be identified via a standard approach, where it's potential position $(x,y)$ predicts the values of the pixels inside the feature region (for eye, 4x4 pixels, for mouth 1x7 pixels, etc.), the correct configuration constraints are enforced via potentials."
   ]
  },
  {
   "cell_type": "code",
   "execution_count": 17,
   "metadata": {
    "collapsed": true
   },
   "outputs": [],
   "source": [
    "import numpy as np\n",
    "import pymc3 as pm\n",
    "import theano\n",
    "import theano.tensor as tt"
   ]
  },
  {
   "cell_type": "markdown",
   "metadata": {},
   "source": [
    "### Data\n",
    "We build two 'faces' and one 'non-face', the first face is the prototype symmetric face while the second face is slightly rotated clockwise.  The non-face has the requisite features but in wrong locations.  All matrices are on a grid of 9x9 pixels."
   ]
  },
  {
   "cell_type": "code",
   "execution_count": 18,
   "metadata": {},
   "outputs": [
    {
     "data": {
      "text/plain": [
       "(9, 9)"
      ]
     },
     "execution_count": 18,
     "metadata": {},
     "output_type": "execute_result"
    }
   ],
   "source": [
    "face = np.vstack([\n",
    "    [0, 0, 0, 0, 0, 0, 0, 0, 0],\n",
    "    [0, 1, 1, 0, 0, 0, 1, 1, 0],\n",
    "    [0, 1, 1, 0, 0, 0, 1, 1, 0],\n",
    "    [0, 0, 0, 0, 0, 0, 0, 0, 0],\n",
    "    [0, 0, 0, 0, 1, 0, 0, 0, 0],\n",
    "    [0, 0, 0, 1, 1, 1, 0, 0, 0],\n",
    "    [0, 0, 0, 0, 0, 0, 0, 0, 0],\n",
    "    [0, 0, 1, 1, 1, 1, 1, 0, 0],\n",
    "    [0, 0, 0, 0, 0, 0, 0, 0, 0]\n",
    "])\n",
    "\n",
    "face.shape"
   ]
  },
  {
   "cell_type": "code",
   "execution_count": 19,
   "metadata": {},
   "outputs": [
    {
     "data": {
      "text/plain": [
       "(9, 9)"
      ]
     },
     "execution_count": 19,
     "metadata": {},
     "output_type": "execute_result"
    }
   ],
   "source": [
    "face2 = np.vstack([\n",
    "    [0, 0, 0, 0, 0, 0, 0, 0, 0],\n",
    "    [0, 1, 1, 0, 0, 0, 0, 0, 0],\n",
    "    [0, 1, 1, 0, 0, 0, 1, 1, 0],\n",
    "    [0, 0, 0, 0, 0, 0, 1, 1, 0],\n",
    "    [0, 0, 0, 1, 0, 0, 0, 0, 0],\n",
    "    [0, 0, 1, 1, 1, 0, 0, 0, 0],\n",
    "    [0, 0, 0, 0, 0, 0, 0, 0, 0],\n",
    "    [0, 1, 1, 1, 1, 1, 0, 0, 0],\n",
    "    [0, 0, 0, 0, 0, 0, 0, 0, 0]\n",
    "])\n",
    "\n",
    "face2.shape"
   ]
  },
  {
   "cell_type": "code",
   "execution_count": 20,
   "metadata": {},
   "outputs": [
    {
     "data": {
      "text/plain": [
       "(9, 9)"
      ]
     },
     "execution_count": 20,
     "metadata": {},
     "output_type": "execute_result"
    }
   ],
   "source": [
    "not_face = np.vstack([\n",
    "    [0, 0, 0, 1, 1, 1, 1, 1, 0],\n",
    "    [0, 0, 0, 0, 0, 0, 0, 0, 0],\n",
    "    [0, 1, 1, 0, 1, 1, 0, 0, 0],\n",
    "    [0, 1, 1, 0, 1, 1, 0, 0, 0],\n",
    "    [0, 0, 0, 0, 0, 0, 0, 0, 0],\n",
    "    [0, 0, 0, 1, 0, 0, 0, 0, 0],\n",
    "    [0, 0, 1, 1, 1, 0, 0, 0, 0],\n",
    "    [0, 0, 0, 0, 0, 0, 0, 0, 0],\n",
    "    [0, 0, 0, 0, 0, 0, 0, 0, 0]\n",
    "])\n",
    "\n",
    "not_face.shape"
   ]
  },
  {
   "cell_type": "markdown",
   "metadata": {},
   "source": [
    "### Feature detectors\n",
    "Primitive templates for eyes, nose and mouth follow.  Each value corresponds to the probability of a pixel being switched on (=1) under the assumption that the top left pixel is the start of the feature."
   ]
  },
  {
   "cell_type": "code",
   "execution_count": 21,
   "metadata": {
    "collapsed": true
   },
   "outputs": [],
   "source": [
    "# our fixed \"convolutional filters\"\n",
    "\n",
    "eye_mask = np.array([\n",
    "    [0.1, 0.1, 0.1, 0.1],\n",
    "    [0.1, 0.9, 0.9, 0.1],\n",
    "    [0.1, 0.9, 0.9, 0.1],\n",
    "    [0.1, 0.1, 0.1, 0.1]])\n",
    "\n",
    "nose_mask = np.array([\n",
    "    [0.1, 0.9, 0.1],\n",
    "    [0.9, 0.9, 0.9]])\n",
    "\n",
    "mouth_mask = np.array([\n",
    "    [0.1, 0.1, 0.9, 0.9, 0.9, 0.9, 0.9, 0.1, 0.1]\n",
    "])"
   ]
  },
  {
   "cell_type": "markdown",
   "metadata": {},
   "source": [
    "### The model\n",
    "The full model is written below.  Note that we sample pixel indices from the set of possible top-left pixes of each feature.  For the face, this is $6 \\times 6$, since the template itself is $4\\times 4$.  We then compute $(x,y)$ coordinates from the index and use those to match the template to the processed image pixel by pixel.  The nose matches a 2x3 mask as shown above.\n",
    "\n",
    "The diagram of the entire model is:\n",
    "\n",
    "![Face detector model](images/face_detector_diagram.png)"
   ]
  },
  {
   "cell_type": "markdown",
   "metadata": {},
   "source": [
    "If we look at the 'faces' that have been artistically designed above and take into account the model structure, the following shows what regions are detected by each mask and what role the  factor potentials have in spatially relating the different features.\n",
    "\n",
    "![Face features and potentials](images/face_features_potentials.png)"
   ]
  },
  {
   "cell_type": "markdown",
   "metadata": {},
   "source": [
    "### Exercises\n",
    "\n",
    "The model outputs the feature positions as indices into the pixel arraand also the negative sum of all the potentials (if active), which we call the tension.  The same function is supplied later so solutions can be tested manually if desired.  The tension should be low for actual faces that conform to model expectation and high for non-faces.\n",
    "\n",
    "The model below is set up to process the uncommented dataset each of the datasets.\n",
    "\n",
    "1. Study the mode structure.\n",
    "2. Run the model for the face dataset.  Observe the posterior marginals.\n",
    "3. Uncomment the potentials at the end of the model. Rerun for face.  What is the difference? What happened?\n",
    "4. Look at the MCMC trace from this run.\n",
    "5. Repeat points 2-4 for face 2.\n",
    "6. Repeat points 2-4 for the non-face example.\n",
    "7. There is a function supplied below `compute_tension`, which will compute the stress with respect to desired configuration of the identified solution. The function accepts the output of the model directly (indices).  For face and face2 the tension should be low, since the features are identified in the right configuration.  For the non-face, the tension should be higher.\n",
    "8. Add more data of faces/non-faces, try to confuse the detector with and without the potential terms."
   ]
  },
  {
   "cell_type": "code",
   "execution_count": 22,
   "metadata": {
    "collapsed": true
   },
   "outputs": [],
   "source": [
    "## Select data set\n",
    "\n",
    "image_pixels = theano.shared(face)\n",
    "# image_pixels = theano.shared(face2)\n",
    "# image_pixels = theano.shared(not_face)\n",
    "\n",
    "# factor potentials initially switched off\n",
    "use_potentials = False\n",
    "\n",
    "\n",
    "with pm.Model() as face_detector:\n",
    "    \n",
    "\n",
    "    ## Facial feature detections\n",
    "    \n",
    "    # categorical because: https://discourse.pymc.io/t/issue-with-discreteuniform-distribution/800\n",
    "    eye1_ndx = pm.Categorical('eye1_ndx', p=np.ones(36)/36)\n",
    "    eye1_y = eye1_ndx//6\n",
    "    eye1_x = eye1_ndx%6\n",
    "    \n",
    "    for idx in np.ndindex(eye_mask.shape):\n",
    "        pm.Bernoulli('eye1_pixel_%d_%d' % (idx[0],idx[1]), \n",
    "                     p=eye_mask[idx], \n",
    "                     observed=image_pixels[eye1_y+idx[0],eye1_x+idx[1]])\n",
    "        \n",
    "    eye2_ndx = pm.Categorical('eye2_ndx', p=np.ones(36)/36)\n",
    "    eye2_y = eye2_ndx//6\n",
    "    eye2_x = eye2_ndx%6\n",
    "\n",
    "    for idx in np.ndindex(eye_mask.shape):\n",
    "        pm.Bernoulli('eye2_pixel_%d_%d' % (idx[0],idx[1]),\n",
    "                     p=eye_mask[idx],\n",
    "                     observed=image_pixels[eye2_y+idx[0],eye2_x+idx[1]])\n",
    "\n",
    "    nose_ndx = pm.Categorical('nose_ndx', p=np.ones(56)/56)\n",
    "    nose_y = nose_ndx//7\n",
    "    nose_x = nose_ndx%7\n",
    "    for idx in np.ndindex(nose_mask.shape):\n",
    "        pm.Bernoulli('nose_pixel_%d_%d' % (idx[0],idx[1]),\n",
    "                     p=nose_mask[idx],\n",
    "                     observed=image_pixels[nose_y+idx[0],nose_x+idx[1]])\n",
    "\n",
    "    mouth_ndx = pm.Categorical('mouth_ndx', p=np.ones(9)/9)\n",
    "    mouth_y = mouth_ndx\n",
    "    mouth_x = 0\n",
    "    for idx in np.ndindex(mouth_mask.shape):\n",
    "        pm.Bernoulli('mouth_pixel_%d_%d' % (idx[0],idx[1]),\n",
    "                     p=mouth_mask[idx],\n",
    "                     observed=image_pixels[mouth_y+idx[0],mouth_x+idx[1]])\n",
    "    \n",
    "    ## Potentials\n",
    "    \n",
    "    # distance between eyes should be 5, anything else is penalized\n",
    "    # eye1 to nose distance should be 5\n",
    "    # eye2 to nose distance should be 5\n",
    "    # mouth is third row down from nose\n",
    "\n",
    "    if use_potentials:\n",
    "        p1 = pm.Potential('eye_dist', -0.5*pm.math.abs_((eye2_x-eye1_x)**2 + (eye1_y-eye2_y)**2 - 25))\n",
    "        p2 = pm.Potential('nose_eye1', -0.5*pm.math.abs_((nose_x-eye1_x)**2 + (nose_y-eye1_y)**2 - 25))\n",
    "        p3 = pm.Potential('nose_eye2', -0.5*pm.math.abs_((nose_x-eye2_x)**2 + (nose_y-eye2_y)**2 - 25))\n",
    "        p4 = pm.Potential('mouth_nose', -0.5*pm.math.abs_((mouth_y-nose_y-3)**2))\n",
    "        tension = pm.Deterministic('tension', -(p1+p2+p3+p4))"
   ]
  },
  {
   "cell_type": "code",
   "execution_count": 23,
   "metadata": {},
   "outputs": [
    {
     "name": "stderr",
     "output_type": "stream",
     "text": [
      "Sequential sampling (1 chains in 1 job)\n",
      "CategoricalGibbsMetropolis: [mouth_ndx, nose_ndx, eye2_ndx, eye1_ndx]\n",
      "100%|██████████| 6000/6000 [00:06<00:00, 975.37it/s]\n",
      "Only one chain was sampled, this makes it impossible to run some convergence checks\n"
     ]
    },
    {
     "data": {
      "image/png": "[encoded data removed]",
      "text/plain": [
       "<Figure size 864x576 with 8 Axes>"
      ]
     },
     "metadata": {},
     "output_type": "display_data"
    }
   ],
   "source": [
    "with face_detector:\n",
    "    tr = pm.sample(draws=5000, tune=1000, chains=1)\n",
    "    if use_potentials:\n",
    "        _ = pm.traceplot(tr, [eye1_ndx, eye2_ndx, nose_ndx, mouth_ndx, tension])\n",
    "    else:\n",
    "        _ = pm.traceplot(tr, [eye1_ndx, eye2_ndx, nose_ndx, mouth_ndx])        "
   ]
  },
  {
   "cell_type": "markdown",
   "metadata": {},
   "source": [
    "Let us examine a few examples from the MCMC trace.\n",
    "\n",
    "- If the potentials are not switched on, you should be able to see assignments where both eyes are actually coincident.\n",
    "- In the non-face example this will be very clear as it only actually has one eye."
   ]
  },
  {
   "cell_type": "code",
   "execution_count": 24,
   "metadata": {},
   "outputs": [
    {
     "data": {
      "text/plain": [
       "({'eye1_ndx': 0, 'eye2_ndx': 0, 'mouth_ndx': 7, 'nose_ndx': 31},\n",
       " {'eye1_ndx': 0, 'eye2_ndx': 0, 'mouth_ndx': 7, 'nose_ndx': 31},\n",
       " {'eye1_ndx': 0, 'eye2_ndx': 0, 'mouth_ndx': 7, 'nose_ndx': 31},\n",
       " {'eye1_ndx': 0, 'eye2_ndx': 0, 'mouth_ndx': 7, 'nose_ndx': 31},\n",
       " {'eye1_ndx': 0, 'eye2_ndx': 0, 'mouth_ndx': 7, 'nose_ndx': 31},\n",
       " {'eye1_ndx': 0, 'eye2_ndx': 0, 'mouth_ndx': 7, 'nose_ndx': 31},\n",
       " {'eye1_ndx': 0, 'eye2_ndx': 5, 'mouth_ndx': 7, 'nose_ndx': 31},\n",
       " {'eye1_ndx': 0, 'eye2_ndx': 5, 'mouth_ndx': 7, 'nose_ndx': 31})"
      ]
     },
     "execution_count": 24,
     "metadata": {},
     "output_type": "execute_result"
    }
   ],
   "source": [
    "tr[1], tr[2], tr[3], tr[4], tr[5], tr[6], tr[7], tr[8]"
   ]
  },
  {
   "cell_type": "code",
   "execution_count": 25,
   "metadata": {},
   "outputs": [
    {
     "name": "stdout",
     "output_type": "stream",
     "text": [
      "face 1 tension = 2\n",
      "face 2 tension = 6\n",
      "non-face tension = 17\n"
     ]
    }
   ],
   "source": [
    "import math\n",
    "\n",
    "def compute_tension(vals):\n",
    "    eye1_ndx, eye2_ndx, nose_ndx, mouth_ndx = vals['eye1_ndx'], vals['eye2_ndx'], vals['nose_ndx'], vals['mouth_ndx']\n",
    "    eye1_x, eye1_y = eye1_ndx%6, eye1_ndx//6\n",
    "    eye2_x, eye2_y = eye2_ndx%6, eye2_ndx//6\n",
    "    nose_x, nose_y = nose_ndx%7, nose_ndx//7\n",
    "    mouth_x, mouth_y = 0, mouth_ndx\n",
    "    \n",
    "    # compute \"configuration tension\" \n",
    "    a = 0.5 * math.fabs((eye2_x-eye1_x)**2 + (eye1_y-eye2_y)**2 - 25)\n",
    "    b = 0.5 * math.fabs((nose_x-eye1_x)**2 + (nose_y-eye1_y)**2 - 25)\n",
    "    c = 0.5 * math.fabs((nose_x-eye2_x)**2 + (nose_y-eye2_y)**2 - 25)\n",
    "    d = 0.5 * (mouth_y-nose_y-3)**2\n",
    "    \n",
    "    return a+b+c+d\n",
    "\n",
    "# example from face 1\n",
    "print('face 1 tension = %d' % compute_tension({'eye1_ndx': 0, 'eye2_ndx': 5, 'mouth_ndx': 7, 'nose_ndx': 31}))\n",
    "# example from face 2\n",
    "print('face 2 tension = %d' % compute_tension({'eye1_ndx': 0, 'eye2_ndx': 11, 'mouth_ndx': 7, 'nose_ndx': 30}))\n",
    "# example from non-face\n",
    "print('non-face tension = %d' % compute_tension({'eye1_ndx': 5, 'eye2_ndx': 12, 'mouth_ndx': 5, 'nose_ndx': 37}))\n"
   ]
  },
  {
   "cell_type": "markdown",
   "metadata": {},
   "source": [
    "Note that the tension for face 1 is not 0, since the distance from the top-left corner of the nose to the top-left corner of the right eye is not 25, as it is to the top-left corner of the left eye."
   ]
  },
  {
   "cell_type": "markdown",
   "metadata": {},
   "source": [
    "### Visualization of potential terms\n",
    "Let us examine what the potential terms look like geometrically to understand what conditions they impose.  Below we show the log-probability contribution of the potential.\n",
    "\n",
    "As a term in the posterior, each potential is a term of the form:\n",
    "\n",
    "$$\\Psi(dx, dy) = \\exp(-\\frac{1}{2}(|dx^2 + dy^2| - 25)),$$\n",
    "\n",
    "so the log-probability contribution is just\n",
    "\n",
    "$$\\log \\Psi(dx, dy) = -\\frac{1}{2}(|dx^2 + dy^2| - 25).$$"
   ]
  },
  {
   "cell_type": "code",
   "execution_count": 26,
   "metadata": {},
   "outputs": [
    {
     "data": {
      "text/plain": [
       "Text(0.5,1,'Eye-eye and eye-nose log-potentials')"
      ]
     },
     "execution_count": 26,
     "metadata": {},
     "output_type": "execute_result"
    },
    {
     "data": {
      "image/png": "[encoded data removed]",
      "text/plain": [
       "<Figure size 432x288 with 2 Axes>"
      ]
     },
     "metadata": {},
     "output_type": "display_data"
    }
   ],
   "source": [
    "import matplotlib.pyplot as plt\n",
    "%matplotlib inline\n",
    "\n",
    "dx, dy = np.meshgrid(np.arange(-9, 9), np.arange(-9, 9))\n",
    "dp = -0.5 * np.abs(dx**2 + dy**2 - 25)\n",
    "\n",
    "cs = plt.contourf(dx,dy, dp, levels = [-60, -50, -40, -30, -20, -15, -10, -5, 0])\n",
    "plt.colorbar()\n",
    "plt.xlabel('dx [pixels]')\n",
    "_ = plt.ylabel('dy [pixels]')\n",
    "plt.title('Eye-eye and eye-nose log-potentials')"
   ]
  },
  {
   "cell_type": "code",
   "execution_count": 27,
   "metadata": {},
   "outputs": [
    {
     "data": {
      "image/png": "[encoded data removed]",
      "text/plain": [
       "<Figure size 432x288 with 1 Axes>"
      ]
     },
     "metadata": {},
     "output_type": "display_data"
    }
   ],
   "source": [
    "dy = np.linspace(-5, 10, 20)\n",
    "plt.plot(dy, -0.5*(dy-3)**2)\n",
    "plt.title('Mouth-Nose log-potential')\n",
    "plt.xlabel('dy [pixels]')\n",
    "_ = plt.ylabel('log potential value')"
   ]
  },
  {
   "cell_type": "markdown",
   "metadata": {},
   "source": [
    "## Exercise 2 - tagging name tokens\n",
    "\n",
    "In this exercise, we will start with an identified model (very simplified) of tagging a sequence of two tokens with its likely form, which can be one of \n",
    "`[Surname, GivenName, FirstInitial, LastInitial, Empty]`.\n",
    "\n",
    "Note that the structure of this exercise is much more complex than exercises we have done before."
   ]
  },
  {
   "cell_type": "markdown",
   "metadata": {},
   "source": [
    "### Problem statement\n",
    "\n",
    "The model receives an input of one or two words or initials and the result should be a set of tags that the model assigns to the words. Example:\n",
    "\n",
    "- `['John', 'Smith'] --> ['GivenName', 'Surname']`\n",
    "- `['Sculley', 'Dana'] --> ['Surname', 'GivenName']`\n",
    "- `['J.', 'Smith'] --> ['FirstInitial', 'Surname']`\n",
    "- `['Smith', 'J.'] --> ['Surname', 'FirstInitial']`\n",
    "- `['Smith'] --> ['Surname', 'Empty']`\n",
    "\n",
    "In our toy version of the problem we are only going to use three features for each token:\n",
    "- number of characters, int >= 0\n",
    "- presence of non-alphanumeric characters, 0/1\n",
    "- list of known words for which we actually have probabilities of them being surnames vs. given names. Of course we frequently do not have a name on our list, so this data can be unobserved.\n",
    "\n",
    "We first build part of our \"knowledge base\" and setup a preprocessing function and then introduce the structure of the model."
   ]
  },
  {
   "cell_type": "code",
   "execution_count": 28,
   "metadata": {
    "collapsed": true
   },
   "outputs": [],
   "source": [
    "import theano\n",
    "import theano.tensor as tt\n",
    "import pymc3 as pm"
   ]
  },
  {
   "cell_type": "code",
   "execution_count": 29,
   "metadata": {
    "collapsed": true
   },
   "outputs": [],
   "source": [
    "# We map the tags into integers for use with PyMC3\n",
    "token_tags = {'Surname' : 0,\n",
    "              'GivenName' : 1,\n",
    "              'FirstInitial' : 2,\n",
    "              'LastInitial' : 3,\n",
    "              'Empty' : 4}"
   ]
  },
  {
   "cell_type": "markdown",
   "metadata": {},
   "source": [
    "We build a probability table that represents the probabilities of the form\n",
    "`p(name='Gacs'|tag='surname')` under the assumption that the name token is observed, which means it is on our (very short list)."
   ]
  },
  {
   "cell_type": "code",
   "execution_count": 30,
   "metadata": {
    "collapsed": true
   },
   "outputs": [],
   "source": [
    "# List of \"known names\", mapped to integers 0..3\n",
    "name_mapping = dict(zip(['gacs', 'john', 'smith', 'mark'], range(6)))"
   ]
  },
  {
   "cell_type": "code",
   "execution_count": 31,
   "metadata": {},
   "outputs": [
    {
     "data": {
      "text/plain": [
       "[{'has_nonalpha': 1, 'known_name': -1, 'length': 2, 'tag': 2},\n",
       " {'has_nonalpha': 0, 'known_name': 2, 'length': 5, 'tag': 0}]"
      ]
     },
     "execution_count": 31,
     "metadata": {},
     "output_type": "execute_result"
    }
   ],
   "source": [
    "# function that maps a labeled example to features.\n",
    "#\n",
    "def encode_sample(name_toks):\n",
    "    fs = []\n",
    "    for i,(k,v) in enumerate(name_toks):\n",
    "        fs.append({\n",
    "            'tag': token_tags[k],\n",
    "            'length': len(v),\n",
    "            'has_nonalpha' : 1 if any([not ch.isalnum() for ch in v]) else 0,\n",
    "            'known_name' : -1 if type(v) != str else name_mapping.get(v.lower(), -1)})\n",
    "\n",
    "    # add an 'empty' tag if only one token is given\n",
    "    if len(name_toks) < 2:\n",
    "        fs.append({'tag' : 4,\n",
    "                   'length' : 0,\n",
    "                   'has_nonalpha' : 0,\n",
    "                   'known_name' : -1})\n",
    "    return fs\n",
    "\n",
    "\n",
    "# example\n",
    "encode_sample([('FirstInitial','J.'), ('Surname', 'Smith')])"
   ]
  },
  {
   "cell_type": "markdown",
   "metadata": {},
   "source": [
    "### Model structure\n",
    "\n",
    "The model (without factor potentials) is structured as shown on the image below\n",
    "\n",
    "![Without potential](images/tag_model_no_potential.png)\n",
    "\n",
    "So the posterior probability distribution can be written as\n",
    "\n",
    "$$f(\\text{tag1},\\text{tag2} \\mid w_1, l_1, a_1, w_2, l_2, a_2) \\;\\;\\; \\propto \\;\\;\\; f(w_1 \\mid \\text{tag1}) \\;\\;\\; f(a_1 \\mid \\text{tag1}) \\;\\;\\;  f(l_1 \\mid \\text{tag1}) \\;\\;\\; f(w_2 \\mid \\text{tag2}) \\;\\;\\; f(a_2 \\mid \\text{tag2}) \\;\\;\\; f(l_2 \\mid \\text{tag2}) \\;\\;\\; f(\\text{tag1}) \\;\\;\\; f(\\text{tag2})$$\n",
    "\n",
    "We further specify that:\n",
    "- the `length` of a word has a Poisson distribution with a rate parameter conditional on the tag. The rate parameters are stored as `length_poisson_rate`, an array indexed by tag\n",
    "- the probability of observing non-alpha numeric characters in a token is Bernoulli with probability $p$ again conditional on the tag, stored as an array `nonalpha_bernoulli_p`.  Non-alphanumeric characters (primarily dot) are expected only in initials and are unexpected in full names.\n",
    "- if a name is known to us (exists in our shortlist), the probability that we observe it is given by the array `name_prob`.  Thus assuming the tag is GivenName, then observing John is not surprising whereas observing the token Gacs is quite surprising (and thus is assigned low probability).\n",
    "\n",
    "Note that we assume that this model has already been fitted to some data (some of the values are indeed fitted to data, others are guessed) and we already have the parameters at hand. Those parameters are fitted below.  Please examine the model as written below and study the prior probabilities - check whether they are as you would expect."
   ]
  },
  {
   "cell_type": "markdown",
   "metadata": {},
   "source": [
    "### Testing the model\n",
    "In the cell below are prepared some examples which can be passed to the model.  Uncommenting one sample will execute the model on it.\n",
    "\n",
    "1. Please carefully examine the outputs and determine if it corresponds to the actual tags or not.\n",
    "2. In some cases, the model makes an incorrect decision, do you see why when you examine the parameters of the model?\n",
    "3. How could we fix this?"
   ]
  },
  {
   "cell_type": "code",
   "execution_count": 32,
   "metadata": {},
   "outputs": [
    {
     "data": {
      "text/plain": [
       "[{'has_nonalpha': 0, 'known_name': 2, 'length': 5, 'tag': 0},\n",
       " {'has_nonalpha': 1, 'known_name': -1, 'length': 2, 'tag': 2}]"
      ]
     },
     "execution_count": 32,
     "metadata": {},
     "output_type": "execute_result"
    }
   ],
   "source": [
    "#data = encode_sample([('Surname', 'Gacs')])\n",
    "#data = encode_sample([('GivenName', 'John')])\n",
    "#data = encode_sample([('Surname', 'Gacs'),('GivenName', 'Peter')])\n",
    "#data = encode_sample([('LastInitial', 'L.'), ('GivenName', 'John')])\n",
    "data = encode_sample([('Surname', 'Smith'), ('FirstInitial', 'J.')])\n",
    "data"
   ]
  },
  {
   "cell_type": "code",
   "execution_count": 33,
   "metadata": {},
   "outputs": [
    {
     "name": "stderr",
     "output_type": "stream",
     "text": [
      "Sequential sampling (1 chains in 1 job)\n",
      "CategoricalGibbsMetropolis: [tag2, tag1]\n",
      "100%|██████████| 2500/2500 [00:00<00:00, 3155.85it/s]\n",
      "Only one chain was sampled, this makes it impossible to run some convergence checks\n"
     ]
    },
    {
     "name": "stdout",
     "output_type": "stream",
     "text": [
      "Ground truth tags: tag1=0 tag2=2\n"
     ]
    },
    {
     "data": {
      "image/png": "[encoded data removed]",
      "text/plain": [
       "<Figure size 864x288 with 4 Axes>"
      ]
     },
     "metadata": {},
     "output_type": "display_data"
    }
   ],
   "source": [
    "with pm.Model() as name_model:\n",
    "    \n",
    "    # priors for specific tokens appearing in slot 1 and slot 2\n",
    "    tag1 = pm.Categorical('tag1', np.array([0.28, 0.696, 0.02, 0.001, 0.001]))\n",
    "    tag2 = pm.Categorical('tag2', np.array([0.31, 0.058, 0.002, 0.13, 0.5]))\n",
    "                        \n",
    "    # distribution of number of chars\n",
    "    length_poisson_rate = theano.shared(np.array([6., 6., 1., 1., 0.000001]))\n",
    "    # distribution of non_alphachars\n",
    "    nonalpha_bernoulli_p = theano.shared(np.array([0.001, 0.001, 0.8, 0.8, 0.001]))\n",
    "    # name probabilities for observed names given known tags (see list name_mapping a few cells above)\n",
    "    # p[1,2] is p(name='Smith'|tag='GivenName')\n",
    "    name_prob = np.vstack([[0.999, 0.001, 0.999, 0.9, 0.0], #surname\n",
    "                           [0.001, 0.999, 0.001, 0.1, 0.0], #givenname\n",
    "                           [0.001, 0.001, 0.001, 0.001, 0.0], #firstinitial\n",
    "                           [0.001, 0.001, 0.001, 0.001, 0.0], #lastinitial\n",
    "                           [0.001, 0.001, 0.001, 0.001, 0.001]]) #empty\n",
    "    known_name_categorical_p = theano.shared(np.array(name_prob))\n",
    "\n",
    "    # make sure each row adds to one\n",
    "    name_prob /= np.sum(name_prob, axis=1)[:, np.newaxis]\n",
    "    name_prob\n",
    "\n",
    "    len1 = pm.Poisson('len1', length_poisson_rate[tag1], observed = data[0]['length'])\n",
    "    non_alpha1 = pm.Bernoulli('non_alpha1', nonalpha_bernoulli_p[tag1], observed = data[0]['has_nonalpha'])\n",
    "    if data[0]['known_name'] >= 0:\n",
    "        w1 = pm.Categorical('known_word1', known_name_categorical_p[tag1,:], observed = data[0]['known_name'])\n",
    "        \n",
    "    len2 = pm.Poisson('len2', length_poisson_rate[tag2], observed = data[1]['length'])\n",
    "    non_alpha2 = pm.Bernoulli('non_alpha2', nonalpha_bernoulli_p[tag2], observed = data[1]['has_nonalpha'])\n",
    "    if data[1]['known_name'] >= 0:\n",
    "        w2 = pm.Categorical('known_word2', known_name_categorical_p[tag2,:], observed = data[1]['known_name'])\n",
    "    \n",
    "    tr = pm.sample(draws=2000, tune=500, chains=1)\n",
    "    \n",
    "    pm.traceplot(tr)\n",
    "\n",
    "# and print the actual tags\n",
    "# reminder: {'Surname' : 0, 'GivenName' : 1,'FirstInitial' : 2, 'LastInitial' : 3, 'Empty' : 4}\n",
    "print('Ground truth tags: tag1=%d tag2=%d' % (data[0]['tag'], data[1]['tag']))"
   ]
  },
  {
   "cell_type": "markdown",
   "metadata": {},
   "source": [
    "### Factor potential\n",
    "\n",
    "We now add a factor potential to the model which is multiplied with the rest of the model, so the full distribution is now:\n",
    "\n",
    "$$f(\\text{tag1},\\text{tag2} \\mid w_1, l_1, a_1, w_2, l_2, a_2) \\;\\;\\; \\propto \\;\\;\\; f(w_1 \\mid \\text{tag1}) \\;\\;\\; f(a_1 \\mid \\text{tag1}) \\;\\;\\;  f(l_1 \\mid \\text{tag1}) \\;\\;\\; f(w_2 \\mid \\text{tag2}) \\;\\;\\; f(a_2 \\mid \\text{tag2}) \\;\\;\\; f(l_2 \\mid \\text{tag2}) \\;\\;\\; f(\\text{tag1}) \\;\\;\\; f(\\text{tag2}) \\;\\;\\; \\mathbf{\\Psi(\\text{tag1},\\text{tag2})}.$$\n",
    "\n",
    "The new structure of the model is now as shown in the diagram.  The factor potential connects the two tag nodes and introduces a relationship between them that is encoded in the model as specified in the next cells.\n",
    "\n",
    "![Model with factor potential](images/tag_model_with_potential.png)\n",
    "\n",
    "Please analyse and try to understand what is the effect of the factor potential by running the examples.\n",
    "\n",
    "Run the same examples through this model as well and compare the output to the model above.  What is the difference and why is the difference there?"
   ]
  },
  {
   "cell_type": "code",
   "execution_count": 34,
   "metadata": {},
   "outputs": [
    {
     "data": {
      "text/plain": [
       "[{'has_nonalpha': 0, 'known_name': 2, 'length': 5, 'tag': 0},\n",
       " {'has_nonalpha': 1, 'known_name': -1, 'length': 2, 'tag': 2}]"
      ]
     },
     "execution_count": 34,
     "metadata": {},
     "output_type": "execute_result"
    }
   ],
   "source": [
    "# what data is going into the model? To change this, use the cell above the first model.\n",
    "data"
   ]
  },
  {
   "cell_type": "code",
   "execution_count": 35,
   "metadata": {},
   "outputs": [
    {
     "name": "stderr",
     "output_type": "stream",
     "text": [
      "Sequential sampling (1 chains in 1 job)\n",
      "CategoricalGibbsMetropolis: [tag2, tag1]\n",
      "100%|██████████| 2500/2500 [00:00<00:00, 3043.30it/s]\n",
      "Only one chain was sampled, this makes it impossible to run some convergence checks\n"
     ]
    },
    {
     "name": "stdout",
     "output_type": "stream",
     "text": [
      "Ground truth tags: tag1=0 tag2=2\n"
     ]
    },
    {
     "data": {
      "image/png": "[encoded data removed]",
      "text/plain": [
       "<Figure size 864x288 with 4 Axes>"
      ]
     },
     "metadata": {},
     "output_type": "display_data"
    }
   ],
   "source": [
    "with pm.Model() as name_model:\n",
    "    \n",
    "    # priors for specific tokens appearing in slot 1 and slot 2\n",
    "    tag1 = pm.Categorical('tag1', np.array([0.28, 0.696, 0.02, 0.001, 0.001]))\n",
    "    tag2 = pm.Categorical('tag2', np.array([0.31, 0.058, 0.002, 0.13, 0.5]))\n",
    "                        \n",
    "    # distribution of number of chars\n",
    "    length_poisson_rate = theano.shared(np.array([6., 6., 1., 1., 0.000001]))\n",
    "    # distribution of non_alphachars\n",
    "    nonalpha_bernoulli_p = theano.shared(np.array([0.001, 0.001, 0.8, 0.8, 0.001]))\n",
    "    # name probabilities for observed names given known tags (see list name_mapping a few cells above)\n",
    "    # p[1,2] is p(name='Smith'|tag='GivenName')\n",
    "    name_prob = np.vstack([[0.999, 0.001, 0.999, 0.9, 0.0], #surname\n",
    "                           [0.001, 0.999, 0.001, 0.1, 0.0], #givenname\n",
    "                           [0.001, 0.001, 0.001, 0.001, 0.0], #firstinitial\n",
    "                           [0.001, 0.001, 0.001, 0.001, 0.0], #lastinitial\n",
    "                           [0.001, 0.001, 0.001, 0.001, 0.001]]) #empty\n",
    "    known_name_categorical_p = theano.shared(np.array(name_prob))\n",
    "\n",
    "    # make sure each row adds to one\n",
    "    name_prob /= np.sum(name_prob, axis=1)[:, np.newaxis]\n",
    "    name_prob\n",
    "\n",
    "    len1 = pm.Poisson('len1', length_poisson_rate[tag1], observed = data[0]['length'])\n",
    "    non_alpha1 = pm.Bernoulli('non_alpha1', nonalpha_bernoulli_p[tag1], observed = data[0]['has_nonalpha'])\n",
    "    if data[0]['known_name'] >= 0:\n",
    "        w1 = pm.Categorical('known_word1', known_name_categorical_p[tag1,:], observed = data[0]['known_name'])\n",
    "        \n",
    "    len2 = pm.Poisson('len2', length_poisson_rate[tag2], observed = data[1]['length'])\n",
    "    non_alpha2 = pm.Bernoulli('non_alpha2', nonalpha_bernoulli_p[tag2], observed = data[1]['has_nonalpha'])\n",
    "    if data[1]['known_name'] >= 0:\n",
    "        w2 = pm.Categorical('known_word2', known_name_categorical_p[tag2,:], observed = data[1]['known_name'])\n",
    "    \n",
    "    # Potential term that encodes interactions between tokens\n",
    "    # Reminder: 'Surname' : 0, 'GivenName' : 1, 'FirstInitial' : 2, 'LastInitial' : 3, 'Empty' : 4\n",
    "    potential_p = theano.shared(np.log(np.vstack(\n",
    "        [[0.001, 0.8, 0.8, 0.001, 0.8],          #surname\n",
    "         [0.8, 0.001, 0.001, 0.8, 0.8],          #givenname\n",
    "         [0.8, 0.001, 0.001, 0.8, 0.8],          #firstinitial\n",
    "         [0.001, 0.8, 0.001, 0.001, 0.8],        #lastinitial\n",
    "         [0.001, 0.001, 0.001, 0.001, 0.001]]))) #empty\n",
    "    pm.Potential('potential_p', potential_p[tag1, tag2])\n",
    "    \n",
    "    tr = pm.sample(draws=2000, tune=500, chains=1)\n",
    "    \n",
    "    pm.traceplot(tr)\n",
    "\n",
    "# and print the actual tags\n",
    "# reminder: {'Surname' : 0, 'GivenName' : 1,'FirstInitial' : 2, 'LastInitial' : 3, 'Empty' : 4}\n",
    "print('Ground truth tags: tag1=%d tag2=%d' % (data[0]['tag'], data[1]['tag']))        "
   ]
  },
  {
   "cell_type": "markdown",
   "metadata": {},
   "source": [
    "## Conclusions\n",
    "\n",
    "We have examined the construction of models and the role of different tyes of variable.\n",
    "\n",
    "One of the building blocks is the factor potential. Factor potentials can establish a structure in the model output and thus eliminate predictions which are not compatible. Factor potentials conceptually introduce a symmetric term (corresponding to an undirected link in the model graph) into the posterior while hierarchical Bayesian terms correspond do directed relationships. We have studied this in two models in detail."
   ]
  },
  {
   "cell_type": "markdown",
   "metadata": {},
   "source": [
    "## Custom operations - extra material\n",
    "\n",
    "For more complex distributions, one can create a subclass of `Continuous` or `Discrete` and provide the custom `logp` function, as required. This is how the built-in distributions in PyMC are specified, for example the [Normal distribution](https://github.com/pymc-devs/pymc3/blob/999661c092310b1f247f14037f795a852425e9c9/pymc3/distributions/continuous.py#L227).\n",
    "\n",
    "As an example, fields like psychology and astrophysics have complex likelihood functions for a particular process that may require numerical approximation. In these cases, it is impossible to write the function in terms of predefined theano operators and we must use a custom theano operator using `as_op` or inheriting from `theano.Op`. \n",
    "\n",
    "Implementing the `beta` variable above as a `Continuous` subclass is shown below, along with a sub-function using the `as_op` decorator, though this is not strictly necessary."
   ]
  },
  {
   "cell_type": "code",
   "execution_count": 36,
   "metadata": {
    "collapsed": true
   },
   "outputs": [],
   "source": [
    "from pymc3.distributions import Continuous\n",
    "import theano.tensor as tt\n",
    "from theano import as_op\n",
    "\n",
    "class Beta(Continuous):\n",
    "    def __init__(self, mu, *args, **kwargs):\n",
    "        super(Beta, self).__init__(*args, **kwargs)\n",
    "        self.mu = mu\n",
    "        self.mode = mu\n",
    "\n",
    "    def logp(self, value):\n",
    "        mu = self.mu\n",
    "        return beta_logp(value - mu)\n",
    "    \n",
    "@as_op(itypes=[tt.dscalar], otypes=[tt.dscalar])\n",
    "def beta_logp(value):\n",
    "    return -1.5 * np.log(1 + (value)**2)\n",
    "\n",
    "\n",
    "with pm.Model() as model:\n",
    "    beta = Beta('slope', mu=0, testval=0)"
   ]
  }
 ],
 "metadata": {
  "kernelspec": {
   "display_name": "Python 3",
   "language": "python",
   "name": "python3"
  },
  "language_info": {
   "codemirror_mode": {
    "name": "ipython",
    "version": 3
   },
   "file_extension": ".py",
   "mimetype": "text/x-python",
   "name": "python",
   "nbconvert_exporter": "python",
   "pygments_lexer": "ipython3",
   "version": "3.6.3"
  },
  "latex_envs": {
   "bibliofile": "biblio.bib",
   "cite_by": "apalike",
   "current_citInitial": 1,
   "eqLabelWithNumbers": true,
   "eqNumInitial": 0
  },
  "toc": {
   "colors": {
    "hover_highlight": "#DAA520",
    "navigate_num": "#000000",
    "navigate_text": "#333333",
    "running_highlight": "#FF0000",
    "selected_highlight": "#FFD700",
    "sidebar_border": "#EEEEEE",
    "wrapper_background": "#FFFFFF"
   },
   "moveMenuLeft": true,
   "nav_menu": {
    "height": "498px",
    "width": "252px"
   },
   "navigate_menu": true,
   "number_sections": true,
   "sideBar": true,
   "threshold": 4,
   "toc_cell": false,
   "toc_section_display": "block",
   "toc_window_display": true,
   "widenNotebook": false
  }
 },
 "nbformat": 4,
 "nbformat_minor": 2
}
