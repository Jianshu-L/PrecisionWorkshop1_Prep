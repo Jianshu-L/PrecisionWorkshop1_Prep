{
 "cells": [
  {
   "cell_type": "markdown",
   "metadata": {},
   "source": [
    "# Analytical solution: Normal-Normal model with known precision"
   ]
  },
  {
   "cell_type": "markdown",
   "metadata": {},
   "source": [
    "Previously we have solved the Beta-Binomial model analytically and found that a Binomial likelihood (fits clinical trials, or coin tossing) is conjugate with a Beta prior.  This means that the posterior distribution is also a Beta distribution but with updated parameters.\n",
    "\n",
    "In this case, we assume that we are interested in estimating some parameter $\\mu$ that we cannot observe directly but we can measure some estimate $X$ using a measurement device with a known and fixed variance (or precision, defined below) and that the measurement error is normally distributed.  We further assume that our prior on the value of the parameter is also normal with an assumed mean and precision.\n",
    "\n",
    "Using our assumptions and this one measurement, we want to obtain an estimate of $\\mu$."
   ]
  },
  {
   "cell_type": "markdown",
   "metadata": {},
   "source": [
    "## Parametrizing a Normal distribution\n",
    "A Normal distribution can be parametrized by a mean $\\mu$ and variance $\\sigma^2$ but alternatively (and less frequently) it can be parametrized by a mean $\n",
    "\\mu$ and precision $\\tau = \\sigma^{-2}$.\n",
    "\n",
    "Thus, instead of denoting $X \\sim {\\cal N}(\\mu,\\sigma^2)$, we write $X \\sim {\\cal N}(\\mu,\\tau)$."
   ]
  },
  {
   "cell_type": "markdown",
   "metadata": {},
   "source": [
    "## Formalizing the problem\n",
    "\n",
    "We are interested in estimating $\\mu$ given our prior assumptions and given the one observation $X$.  Note: we use the function $f$ to denote all densities which are distinguished according to their parameters.\n",
    "\n",
    "By assumption, we have\n",
    "\n",
    "$$f(\\mu) \\sim {\\cal N}(\\mu_0, \\tau_0),$$\n",
    "\n",
    "for some apriori chosen (assumed) $\\mu, \\tau_0$.  We also assume that the observation $X$ is distributed as\n",
    "\n",
    "$$f(X|\\mu) \\sim {\\cal N}(\\mu, \\tau),$$\n",
    "\n",
    "where again we assume that we know $\\tau$ because the manufacturer states it on the device.\n",
    "\n",
    "The question now is, what is the distribution of $\\mu|x$ given a measurement $x$.  By the Bayes theorem, we know that\n",
    "\n",
    "$$f(\\mu|X) \\propto f(X|\\mu)f(\\mu).$$"
   ]
  },
  {
   "cell_type": "markdown",
   "metadata": {},
   "source": [
    "The only parameter we are interested in is $\\mu$, so any multiplicative terms that don't contain $\\mu$ can be neglected in the following calculations, since the equation above requires that we preserve proportionality, not equality.  This is very important to remember as otherwise the proceedings will be extremely difficult.\n",
    "\n",
    "For example, although the full density of $f(\\mu)$ is\n",
    "\n",
    "$$f(\\mu) = \\sqrt{\\frac{\\tau_0}{2\\pi}} \\exp \\left ( -\\frac{\\tau_0}{2}(\\mu-\\mu_0)^2 \\right ),$$\n",
    "\n",
    "we can significantly simplify this form by removing all apparent constant factors and writing\n",
    "\n",
    "$$f(\\mu) \\propto \\exp \\left ( -\\frac{\\tau_0}{2}(\\mu-\\mu_0)^2 \\right ),$$\n",
    "\n",
    "since even $\\tau_0$ is assumed constant."
   ]
  },
  {
   "cell_type": "markdown",
   "metadata": {},
   "source": [
    "In a similar vein, we can write\n",
    "\n",
    "$$f(X|\\mu) \\propto \\exp \\left ( -\\frac{\\tau}{2}(X-\\mu)^2 \\right ),$$\n",
    "\n",
    "which is also considerably simpler."
   ]
  },
  {
   "cell_type": "markdown",
   "metadata": {},
   "source": [
    "## Formal solution"
   ]
  },
  {
   "cell_type": "markdown",
   "metadata": {},
   "source": [
    "We can then write that\n",
    "\n",
    "$$f(\\mu|x) \\propto f(x|\\mu)f(\\mu) \\propto \\exp \\left ( -\\frac{\\tau}{2}(X-\\mu)^2 \\right ) \\exp \\left ( -\\frac{\\tau_0}{2}(\\mu-\\mu_0)^2 \\right ).$$\n",
    "\n",
    "Note: we use lower case $x$ for the actual measured value.\n",
    "\n",
    "And the only thing left to do is to determine what form is this distribution.\n",
    "\n",
    "Without being too oblique about it: this is again a normal distribution but we must determine its mean value and precision given assumptions and measurements."
   ]
  },
  {
   "cell_type": "markdown",
   "metadata": {},
   "source": [
    "After merging both exponential terms, we only have one expression containing terms with $\\mu^2$,$\\mu$ and terms without $\\mu$:\n",
    "\n",
    "$$\\exp \\left ( -\\frac{\\tau}{2}(X-\\mu)^2 \\right ) \\exp \\left ( -\\frac{\\tau_0}{2}(\\mu-\\mu_0)^2 \\right ) = \\exp \\left ( -\\frac{\\tau}{2}(X-\\mu)^2 -\\frac{\\tau_0}{2}(\\mu-\\mu_0)^2 \\right ).$$\n",
    "\n",
    "These terms leads us to consider completing the square and converting the entire expression into the form\n",
    "\n",
    "$$\\exp \\left ( -\\frac{\\tau_1}{2}(\\mu - \\mu_1)^2 \\right ).$$\n",
    "\n",
    "We can then conclude that $\\mu \\sim {\\cal N}(\\mu_1, \\tau_1)$."
   ]
  },
  {
   "cell_type": "code",
   "execution_count": null,
   "metadata": {},
   "outputs": [],
   "source": []
  }
 ],
 "metadata": {
  "kernelspec": {
   "display_name": "Python 3",
   "language": "python",
   "name": "python3"
  },
  "language_info": {
   "codemirror_mode": {
    "name": "ipython",
    "version": 3
   },
   "file_extension": ".py",
   "mimetype": "text/x-python",
   "name": "python",
   "nbconvert_exporter": "python",
   "pygments_lexer": "ipython3",
   "version": "3.6.4"
  }
 },
 "nbformat": 4,
 "nbformat_minor": 2
}
