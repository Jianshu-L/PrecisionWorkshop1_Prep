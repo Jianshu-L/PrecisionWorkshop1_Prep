{
 "cells": [
  {
   "cell_type": "markdown",
   "metadata": {},
   "source": [
    "# Introduction to MCMC\n"
   ]
  },
  {
   "cell_type": "markdown",
   "metadata": {},
   "source": [
    "## Takeaways and objectives from this notebook\n",
    "1. The concept of Gibbs sampling using full conditional distributions. When is Gibbs sampling suitable?\n",
    "2. Gibbs sampler as a Metropolis method with 100% acceptance rate."
   ]
  },
  {
   "cell_type": "markdown",
   "metadata": {},
   "source": [
    "## Gibbs sampling\n",
    "So-far we have seen the Metropolis algorithm as the workhorse of sampling from a posterior distribution.  Another method of accomplishing the same is Gibbs sampling, which rests on different justifications and has different properties.\n",
    "\n",
    "Gibbs sampling is the method of sampling from *full conditional posteriors*, so we need to compute the conditional distribution of each variable given the others and sample from that.\n",
    "\n",
    "The exact algorithm assuming that our state vector has $n$ variables $\\mathbf{x}^{(t)} = [x_1^{(t)}, x_2^{(t)}, ..., x_n^{(t)}]$, the Gibbs sampler proceeds to sample $\\mathbf{x}^{(t+1)}$ as follows:\n",
    "\n",
    "1. Sample $x_1^{(t+1)}$ from $p(x_1^{(t+1)} \\mid x_2^{(t)}, ..., x_n^{(t)})$,\n",
    "2. Sample $x_2^{(t+1)}$ from $p(x_2^{(t+1)} \\mid x_1^{(t+1)}, x_2^{(t)}, ..., x_n^{(t)})$\n",
    "3. ...\n",
    "4. Sample $x_i^{(t+1)}$ from $p(x_i^{(t+1)} \\mid x_1^{(t+1)}, ..., x_{i-1}^{(t+1)}, x_{i+1}^{(t)}, ..., x_n^{(t)})$\n",
    "5. ...\n",
    "6. Sample $x_n^{(t+1)}$ from $p(x_n^{(t+1)} \\mid x_2^{(t+1)}, ..., x_{n-1}^{(t+1)}$.\n",
    "\n",
    "We then set $\\mathbf{x}^{(t+1)} = [x_1^{(t+1)}, ..., x_{n-1}^{(t+1)}]$, as expected. So theoretically the algorithm is very simple.  Programmatically we can think of the algorithm as going through the variables from first to last and updating them in-place.  On the $i$-th variable, we simply use all the updated values for variables $0..i-1$.\n",
    "\n",
    "The main difficulty in applying the Gibbs sampling algorithm is the analytical work required to derive the conditional distributions."
   ]
  },
  {
   "cell_type": "markdown",
   "metadata": {},
   "source": [
    "### Example: Ising model\n",
    "A very popular example for the Gibbs algorithm is the [Ising model](https://en.wikipedia.org/wiki/Ising_model) which can be observed live for example on [this page](https://cs.stanford.edu/people/karpathy/visml/ising_example.html) [1].\n",
    "\n",
    "A simple version of an Ising model is a two-dimensional lattice of binary variables $x_i \\in \\{-1,+1\\}$ that are horizontally and vertically connected using pairwise factor potentials.  \n",
    "\n",
    "![Ising model](https://jgtechnologysolutions.files.wordpress.com/2017/02/ising.png?w=620)\n",
    "Image source: https://jgtechnologysolutions.org\n",
    "\n",
    "We may also apply a potential field $\\bf{b}$, which attract some elements of the Ising model toward 1 o toward -1.  The total *energy* of the field is given by the Hamiltonia and can then be written as:\n",
    "\n",
    "$$H(\\textbf{x}) = - J \\sum_{(i,j) \\in E} x_i x_j - J_b \\sum_{i \\in V} b_i x_i,$$\n",
    "\n",
    "where $J$ is the strength of the interactions, $J_b$ is the strength of the external field and $b_i$ are the desired values. The first sum is over edges connecting the elements (see figure below) and the other is over the elements themselves.\n",
    "\n",
    "We define the (unnormalized) distribution over states to be:\n",
    "\n",
    "$$\\pi(\\textbf{x}) = \\exp (- H(\\textbf{x}))\n",
    "\\left ( J \\sum_{(i,j) \\in E} x_i x_j + J_b \\sum_{i \\in V} b_i x_i \\right )$$"
   ]
  },
  {
   "cell_type": "markdown",
   "metadata": {},
   "source": [
    "The $\\pi(x)$ distribution is our posterior that we wish to sample from (we didn't explictly build any priors or data likelihood - let's assume that the function above is the result of such considerations). Let's break down how the probability depends on a value of a fixed element $x_i$.\n",
    "\n",
    "Hence forth we will denote $E_i(x_i)$ as the part of the energy $E$ that depends on $x_i$ and $E_{-i}$ as the rest of the function. In Gibbs sampling we select one (or more) variables that we want to update and the rest of the model (here represented by $E_{-i}$ remains unchanged. For concreteness, we only select a single variable to update here. Note that $E = E_i(x_i) + E_{-i}$.\n",
    "\n",
    "For the purposes of analyzing the update, we will denote the neighbouring nodes $x_a, x_b, x_c, x_d$."
   ]
  },
  {
   "cell_type": "markdown",
   "metadata": {},
   "source": [
    "For Gibbs sampling, we need to compute $\\pi(x_i \\mid x_{-i})$ which can be computed as\n",
    "\n",
    "$$ \\pi(x_i = v \\mid x_{-i}) = \\frac{\\pi(x_i=v \\mid x_{-i})}{\\pi(x_i=+1 \\mid x_{-i}) + \\pi(x_i=-1 \\mid x_{-i})}.$$\n",
    "\n",
    "Where $v \\in \\{ -1, +1 \\}$.\n",
    "\n",
    "**Note** that here we casually sidestep the normalization problem. Normalization is intractable for the entire model $\\pi(x)$ but since here we restricted our analysis only to one variable, it's easy and is solved by the formula above, which returns a valid conditional distribution $\\pi(x_i = v \\mid x_{-i})$ even if $\\pi(x)$ is not normalized.\n",
    "\n",
    "These considerations lead us to consider $E_i(x_i)$ and $E_{-1}$.  Rewriting the equation in logs again, we get\n",
    "\n",
    "$$ \\pi(x_i = +1 \\mid x_{-i}) = \\frac{\\exp(E_i(x_i=+1) + E_{-i})}{\\exp(E_i(x_i=+1)+E_{-i}) + \\exp(E_i(x_i=+1)+E_{-i}) }$$\n",
    "\n",
    "from which we can factor and cancel out $E_{-i}$ to obtain\n",
    "\n",
    "$$ \\pi(x_i = +1 \\mid x_{-i}) = \\frac{\\exp(E_i(x_i=+1))}{\\exp(E_i(x_i=+1)) + \\exp(E_i(x_i=-1))}.$$\n",
    "\n",
    "**Note** that this results in a huge computational efficiency gain, we can evaluate the conditional with respect to only the neighbouring nodes as the state of $x_i$ is conditionally independent from the rest of the model given it's neighbors.  In effect, we can compute the posterior in O(1) time and update the entire state in $O(N)$ time where $N$ is the number of elements.\n",
    "\n",
    "We thus have\n",
    "\n",
    "$$E_i(x_i) = J(x_ix_a + x_ix_b + x_ix_c + x_ix_d) + J_bb_ix_i,$$\n",
    "\n",
    "which factorizes nicely\n",
    "\n",
    "$$E_i(x_i) = x_i \\left ( J (x_a + x_b + x_c + x_d) + J_bb_i \\right ),$$\n",
    "\n",
    "which makes the value extremely simple to compute for both options $x_i=+1$ and $x_i=-1$.\n"
   ]
  },
  {
   "cell_type": "code",
   "execution_count": 1,
   "metadata": {},
   "outputs": [],
   "source": [
    "import numpy as np\n",
    "import numpy.random as nr\n",
    "\n",
    "# rows and columns\n",
    "rows, cols = 8, 8\n",
    "\n",
    "b = np.array([[-1, -1, -1, -1, -1, -1, -1, -1],\n",
    "              [-1, -1, -1, -1, -1, -1, -1, -1],\n",
    "              [-1, -1, +1, -1, +1, +1, -1, -1],\n",
    "              [-1, -1, +1, +1, +1, +1, -1, -1],\n",
    "              [-1, -1, +1, -1, +1, -1, -1, -1],\n",
    "              [-1, -1, +1, +1, +1, +1, -1, -1],\n",
    "              [-1, -1, -1, -1, -1, -1, -1, -1],\n",
    "              [-1, -1, -1, -1, -1, -1, -1, -1]])"
   ]
  },
  {
   "cell_type": "code",
   "execution_count": 2,
   "metadata": {},
   "outputs": [
    {
     "data": {
      "text/plain": [
       "array([[ 1, -1,  1, -1, -1, -1, -1, -1],\n",
       "       [-1, -1, -1, -1, -1,  1, -1, -1],\n",
       "       [-1,  1,  1, -1,  1,  1,  1, -1],\n",
       "       [ 1, -1,  1,  1,  1,  1, -1,  1],\n",
       "       [-1, -1, -1, -1, -1,  1,  1, -1],\n",
       "       [-1, -1, -1, -1,  1, -1, -1, -1],\n",
       "       [ 1, -1,  1,  1,  1, -1, -1,  1],\n",
       "       [-1,  1,  1,  1, -1, -1, -1,  1]])"
      ]
     },
     "execution_count": 2,
     "metadata": {},
     "output_type": "execute_result"
    }
   ],
   "source": [
    "def random_state(prob_one):\n",
    "    X = np.where(nr.uniform(size=(8,8)) < 1. - prob_one, -1, +1)\n",
    "    return X\n",
    "\n",
    "X_init = random_state(0.5)\n",
    "X_init"
   ]
  },
  {
   "cell_type": "code",
   "execution_count": 3,
   "metadata": {},
   "outputs": [],
   "source": [
    "def compute_hamiltonian(X, b, J, Jb):\n",
    "    H = 0.0\n",
    "    \n",
    "    for r in range(rows):\n",
    "        for c in range(cols):\n",
    "            # evaluate the E_i term for the actual value of X[r,c]\n",
    "            # sum over elements\n",
    "            H -= Jb * b[r,c] * X[r,c]\n",
    "            \n",
    "            # sum over edges\n",
    "            if r > 0:\n",
    "                H -= J * X[r-1,c] * X[r,c]\n",
    "            if c > 0:\n",
    "                H -= J * X[r, c-1] * X[r,c]\n",
    "    return H"
   ]
  },
  {
   "cell_type": "code",
   "execution_count": 4,
   "metadata": {},
   "outputs": [
    {
     "data": {
      "text/plain": [
       "(-26.0, 195729609428.83878)"
      ]
     },
     "execution_count": 4,
     "metadata": {},
     "output_type": "execute_result"
    }
   ],
   "source": [
    "H = compute_hamiltonian(X_init, b, 1., 1.)\n",
    "pi = np.exp(-H)\n",
    "H, pi"
   ]
  },
  {
   "cell_type": "code",
   "execution_count": 5,
   "metadata": {},
   "outputs": [],
   "source": [
    "def compute_conditional_xi_is_minus1(X,b,r,c,J,Jb):\n",
    "    sum_xabcd = 0.0\n",
    "    if c > 0:\n",
    "        sum_xabcd += X[r,c-1]\n",
    "    if c < cols-1:\n",
    "        sum_xabcd += X[r,c+1]\n",
    "    if r > 0:\n",
    "        sum_xabcd += X[r-1,c]\n",
    "    if r < rows-1:\n",
    "        sum_xabcd += X[r+1,c]\n",
    "        \n",
    "    factor = - J * sum_xabcd - Jb * b[r,c]\n",
    "    pi_i_xi_minus1 = np.exp(- (-1. * factor))\n",
    "    pi_i_xi_plus1 = np.exp(- (+1. * factor))\n",
    "    return pi_i_xi_minus1 / (pi_i_xi_minus1 + pi_i_xi_plus1)"
   ]
  },
  {
   "cell_type": "code",
   "execution_count": 6,
   "metadata": {},
   "outputs": [
    {
     "data": {
      "text/plain": [
       "0.9933071490757152"
      ]
     },
     "execution_count": 6,
     "metadata": {},
     "output_type": "execute_result"
    }
   ],
   "source": [
    "compute_conditional_xi_is_minus1(X_init, b, 2, 1, 1., 0.5)"
   ]
  },
  {
   "cell_type": "code",
   "execution_count": 7,
   "metadata": {},
   "outputs": [
    {
     "name": "stdout",
     "output_type": "stream",
     "text": [
      "Full computation: 0.90025  incremental computation: 0.90025\n"
     ]
    }
   ],
   "source": [
    "# let's make sure our conditional computation works\n",
    "\n",
    "# compute conditional from definition\n",
    "X = random_state(0.5)\n",
    "X[4,4] = +1.\n",
    "pi_x_plus1 = np.exp(-compute_hamiltonian(X, b, 0.8, 0.5))\n",
    "X[4,4] = -1\n",
    "pi_x_minus1 = np.exp(-compute_hamiltonian(X, b, 0.8, 0.5))\n",
    "cond_p_xi_minus1 = pi_x_minus1 / (pi_x_minus1 + pi_x_plus1)\n",
    "\n",
    "# now we compute the conditional using our nifty function\n",
    "cond_p_xi_minus1_fast = compute_conditional_xi_is_minus1(X, b, 4, 4, 0.8, 0.5)\n",
    "\n",
    "print('Full computation: %g  incremental computation: %g' % (cond_p_xi_minus1, cond_p_xi_minus1_fast))"
   ]
  },
  {
   "cell_type": "code",
   "execution_count": 8,
   "metadata": {},
   "outputs": [],
   "source": [
    "def run_gibbs_sampler(X, b, J, Jb, steps=1):\n",
    "    # note that X is modified in place\n",
    "    for s in range(steps):\n",
    "        # pre-sample a bunch of uniform random numbers\n",
    "        random_buffer = np.random.uniform(size=(rows, cols))\n",
    "        for r in range(rows):\n",
    "            for c in range(cols):\n",
    "                cond_p_xi_minus1 = compute_conditional_xi_is_minus1(X, b, r, c, J, Jb)\n",
    "                X[r,c] = -1. if random_buffer[r,c] < cond_p_xi_minus1 else +1."
   ]
  },
  {
   "cell_type": "code",
   "execution_count": 9,
   "metadata": {},
   "outputs": [
    {
     "data": {
      "text/plain": [
       "array([[-1, -1, -1, -1, -1, -1, -1, -1],\n",
       "       [-1, -1, -1, -1,  1,  1, -1, -1],\n",
       "       [ 1,  1,  1,  1,  1,  1, -1, -1],\n",
       "       [-1, -1,  1,  1,  1,  1,  1, -1],\n",
       "       [-1, -1, -1, -1,  1,  1,  1, -1],\n",
       "       [-1, -1, -1,  1,  1,  1, -1, -1],\n",
       "       [-1,  1,  1,  1,  1, -1, -1, -1],\n",
       "       [-1,  1,  1,  1,  1, -1, -1, -1]])"
      ]
     },
     "execution_count": 9,
     "metadata": {},
     "output_type": "execute_result"
    }
   ],
   "source": [
    "Xstate = np.copy(X_init)\n",
    "run_gibbs_sampler(Xstate, b, 1., 0.5)\n",
    "Xstate"
   ]
  },
  {
   "cell_type": "code",
   "execution_count": 10,
   "metadata": {},
   "outputs": [
    {
     "data": {
      "image/png": "[encoded data removed]",
      "text/plain": [
       "<Figure size 1152x1152 with 36 Axes>"
      ]
     },
     "metadata": {},
     "output_type": "display_data"
    }
   ],
   "source": [
    "import matplotlib.pyplot as plt\n",
    "%matplotlib inline\n",
    "\n",
    "steps_per_iter = 2\n",
    "\n",
    "plt.figure(figsize=(16,16))\n",
    "Xstate = random_state(0.1)\n",
    "for step in range(36):\n",
    "    plt.subplot(6,6,step+1)\n",
    "    plt.imshow(Xstate)\n",
    "    plt.xticks([])\n",
    "    plt.yticks([])\n",
    "    plt.title('$H({\\\\bf x})=$%g [%d]' % (compute_hamiltonian(Xstate, b, 0.5, 1.6), step*steps_per_iter))\n",
    "    run_gibbs_sampler(Xstate, b, 0.8, 1.6, steps=steps_per_iter)"
   ]
  },
  {
   "cell_type": "code",
   "execution_count": 11,
   "metadata": {},
   "outputs": [
    {
     "data": {
      "image/png": "[encoded data removed]",
      "text/plain": [
       "<Figure size 864x576 with 4 Axes>"
      ]
     },
     "metadata": {},
     "output_type": "display_data"
    }
   ],
   "source": [
    "# let's grab 500 samples\n",
    "N = 1000\n",
    "X = random_state(0.5)\n",
    "Xs = np.zeros((N, rows, cols))\n",
    "for i in range(N):\n",
    "    # variable is modified in place\n",
    "    run_gibbs_sampler(X, b, 0.3, 0.6)\n",
    "    Xs[i,:,:] = X\n",
    "\n",
    "plt.figure(figsize=(12,8))\n",
    "plt.subplot(1,2,1)\n",
    "plt.imshow(np.mean(Xs, axis=0))\n",
    "plt.title('Expected values')\n",
    "plt.colorbar(orientation='horizontal')\n",
    "plt.clim([-1,1])\n",
    "plt.subplot(1,2,2)\n",
    "plt.imshow(np.std(Xs, axis=0))\n",
    "plt.colorbar(orientation='horizontal')\n",
    "plt.title('Standard deviations');"
   ]
  },
  {
   "cell_type": "markdown",
   "metadata": {},
   "source": [
    "## Metropolis-within-Gibbs\n",
    "\n",
    "The Gibbs algorithm requires that we can derive and evaluate conditional probabilities for all variables.  This is impractical in many situations.\n",
    "\n",
    "In such cases, it's possible to to sample with a design called Metropolis-within-Gibbs, where we combine Gibbs and Metropolis sampling.\n",
    "\n",
    "Let's solve a simple mixture problem with two gaussian mixtures that we want to fit a set of points $d_i, i=1,...,20$ in one dimension.\n",
    "\n",
    "$$\\begin{array}{rcl}\n",
    "   \\mu_0 &\\sim& {\\cal N}(0,10) \\\\\n",
    "   \\mu_1 &\\sim& {\\cal N}(0,10) \\\\\n",
    "   Z_i &\\sim& \\text{Bernoulli}(0.5) \\\\\n",
    "   d_i &\\sim& {\\cal N}(\\mu_0(1-Z_i) + \\mu_1 Z_i) \\\\\n",
    "\\end{array}$$\n",
    "\n",
    "Writing a Metropolis sampler for this data should be a breeze, but this time we will do something different: write a hybrid sampler that uses different methods of proposing for different variables:\n",
    "\n",
    "- $\\mu_0, \\mu_1$ using Metropolis random walk and\n",
    "- $Z$ using Gibbs sampling."
   ]
  },
  {
   "cell_type": "code",
   "execution_count": 12,
   "metadata": {},
   "outputs": [],
   "source": [
    "def generate_data(mu1, mu2, N):\n",
    "    return np.hstack([nr.randn(N) + mu1, nr.randn(N) + mu2])\n",
    "\n",
    "def log_normal(x, mu, sd):\n",
    "    return - np.log(sd) - 0.5 * (x - mu)**2/sd**2\n",
    "\n",
    "def log_prior(v):\n",
    "    return log_normal(v['mu1'], 0, 10) + log_normal(v['mu2'], 0, 10) + len(v['Z']) * np.log(0.5)\n",
    "\n",
    "def log_likelihood(v, data):\n",
    "    Z = v['Z']\n",
    "    return np.sum(log_normal(data, v['mu1'] * (1-Z) + v['mu2'] * Z, 1.0))\n",
    "\n",
    "def log_posterior(v, data):\n",
    "    return log_prior(v) + log_likelihood(v, data)\n",
    "\n",
    "def propose_mus(v, logp):\n",
    "    v_prime = { 'mu1' : v['mu1'] + nr.randn(),\n",
    "                'mu2' : v['mu2'] + nr.randn(),\n",
    "                'Z' : v['Z']\n",
    "              }\n",
    "    \n",
    "    logp_prime = log_posterior(v_prime, data)\n",
    "    if logp_prime - logp > np.log(nr.rand()):\n",
    "        return v_prime, logp_prime, True\n",
    "    else:\n",
    "        return v, logp, False\n",
    "    \n",
    "    \n",
    "def propose_gibbs(v, logp):\n",
    "    mu1, mu2, Z = v['mu1'], v['mu2'], v['Z']\n",
    "    Z0s = log_normal(data, mu1, 1.0)\n",
    "    Z1s = log_normal(data, mu2, 1.0)\n",
    "    Zmax = np.amax(np.vstack([Z0s, Z1s]), axis=0)\n",
    "    C_hats = Zmax + np.log(np.exp(Z0s - Zmax) + np.exp(Z1s - Zmax))\n",
    "    \n",
    "    Znew = np.where(np.log(nr.uniform(size=Z.shape)) < Z0s - C_hats, 0, 1)\n",
    "    \n",
    "    v_prime = {\n",
    "        'mu1' : v['mu1'],\n",
    "        'mu2' : v['mu2'],\n",
    "        'Z' : Znew\n",
    "    }\n",
    "    \n",
    "    logp_prime = log_posterior(v_prime, data)\n",
    "    if logp_prime - logp > np.log(nr.rand()):\n",
    "        return v_prime, logp_prime, True\n",
    "    else:\n",
    "        return v, logp, False"
   ]
  },
  {
   "cell_type": "code",
   "execution_count": 13,
   "metadata": {},
   "outputs": [],
   "source": [
    "N = 10\n",
    "data = generate_data(2.0, 4.0, N)"
   ]
  },
  {
   "cell_type": "code",
   "execution_count": 14,
   "metadata": {},
   "outputs": [
    {
     "data": {
      "text/plain": [
       "array([1.25162678, 2.96755458, 2.75038663, 3.19798023, 2.35267264,\n",
       "       2.25927699, 2.01972158, 1.14145267, 1.24883691, 2.65937218,\n",
       "       4.221646  , 5.03432257, 2.49186144, 2.58097816, 4.24921482,\n",
       "       4.18972492, 3.43614675, 3.49079325, 3.55313861, 4.02235254])"
      ]
     },
     "execution_count": 14,
     "metadata": {},
     "output_type": "execute_result"
    }
   ],
   "source": [
    "data"
   ]
  },
  {
   "cell_type": "code",
   "execution_count": 32,
   "metadata": {},
   "outputs": [
    {
     "data": {
      "text/plain": [
       "({'Z': array([0, 1, 1, 0, 0, 1, 1, 1, 1, 0, 1, 1, 0, 1, 1, 0, 1, 0, 1, 0]),\n",
       "  'mu1': 3.6471255367718363,\n",
       "  'mu2': -3.447093541576947},\n",
       " -277.6912639498035)"
      ]
     },
     "execution_count": 32,
     "metadata": {},
     "output_type": "execute_result"
    }
   ],
   "source": [
    "v_init = {\n",
    "    'mu1': nr.randn() * 10,\n",
    "    'mu2': nr.randn() * 10,\n",
    "    'Z' : np.where(nr.rand(2*N) < 0.5, 0, 1)\n",
    "}\n",
    "v_init, log_posterior(v_init, data)"
   ]
  },
  {
   "cell_type": "code",
   "execution_count": 34,
   "metadata": {},
   "outputs": [
    {
     "data": {
      "text/plain": [
       "(-18.594033690013774, -259.09723025978974)"
      ]
     },
     "execution_count": 34,
     "metadata": {},
     "output_type": "execute_result"
    }
   ],
   "source": [
    "log_prior(v_init), log_likelihood(v_init, data)"
   ]
  },
  {
   "cell_type": "code",
   "execution_count": 35,
   "metadata": {},
   "outputs": [],
   "source": [
    "def plot_state(v):\n",
    "    global data\n",
    "    Z=v['Z']\n",
    "    plt.plot([v['mu1']], [0.5], 'go')\n",
    "    plt.plot([v['mu2']], [0.5],'ro')\n",
    "    plt.plot(data[Z==0], np.zeros(np.sum(1-Z)),'+g')\n",
    "    plt.plot(data[Z==1], np.zeros(np.sum(Z)), '+r')"
   ]
  },
  {
   "cell_type": "code",
   "execution_count": 36,
   "metadata": {},
   "outputs": [
    {
     "data": {
      "image/png": "[encoded data removed]",
      "text/plain": [
       "<Figure size 432x288 with 1 Axes>"
      ]
     },
     "metadata": {},
     "output_type": "display_data"
    }
   ],
   "source": [
    "plot_state(v_init)"
   ]
  },
  {
   "cell_type": "code",
   "execution_count": 37,
   "metadata": {},
   "outputs": [],
   "source": [
    "def metropolis_within_gibbs(v_init, n, status_period = None):\n",
    "    global data\n",
    "    \n",
    "    v, logp = v_init, log_posterior(v_init, data)\n",
    "    states, states_logp = [v_init], [logp]\n",
    "    was_accept1, was_accept2 = [], []\n",
    "    \n",
    "    if status_period is None:\n",
    "        status_period = n // 10\n",
    "    \n",
    "    for i in range(1,n):\n",
    "                \n",
    "        # propose mu1 and mu2 via a Metropolis step\n",
    "        v1, logp_v1, accept1 = propose_mus(v, logp)\n",
    "        was_accept1.append(accept1)\n",
    "        \n",
    "        # now v1, logp_v1 are either v, logp if a reject occured or a new state\n",
    "        v2, logp_v2, accept2 = propose_gibbs(v1, logp_v1)\n",
    "        was_accept2.append(accept2)\n",
    "        \n",
    "        # append whatever came out\n",
    "        states.append(v2)\n",
    "        states_logp.append(logp_v2)\n",
    "        \n",
    "        v, logp = v2, logp_v2\n",
    "            \n",
    "        if i > 1 and i % status_period == 0:\n",
    "            print('Stats @ %d: accept1_ratio=%g avg_logp=%g' % (i, float(np.sum(was_accept1[-status_period:]))/status_period,\n",
    "                                                                   np.mean(states_logp[-status_period:])))\n",
    "            \n",
    "    return states, float(np.sum(was_accept1)) / n, float(np.sum(was_accept2)) / n"
   ]
  },
  {
   "cell_type": "code",
   "execution_count": 38,
   "metadata": {},
   "outputs": [
    {
     "name": "stdout",
     "output_type": "stream",
     "text": [
      "Stats @ 100: accept1_ratio=0.27 avg_logp=-30.8286\n",
      "Stats @ 200: accept1_ratio=0.18 avg_logp=-26.8561\n",
      "Stats @ 300: accept1_ratio=0.18 avg_logp=-24.904\n",
      "Stats @ 400: accept1_ratio=0.13 avg_logp=-25.429\n",
      "Stats @ 500: accept1_ratio=0.13 avg_logp=-25.3572\n",
      "Stats @ 600: accept1_ratio=0.17 avg_logp=-24.9654\n",
      "Stats @ 700: accept1_ratio=0.16 avg_logp=-24.7913\n",
      "Stats @ 800: accept1_ratio=0.14 avg_logp=-24.5225\n",
      "Stats @ 900: accept1_ratio=0.18 avg_logp=-25.9285\n"
     ]
    },
    {
     "data": {
      "text/plain": [
       "(0.178, 0.458)"
      ]
     },
     "execution_count": 38,
     "metadata": {},
     "output_type": "execute_result"
    }
   ],
   "source": [
    "states, ar1, ar2 = metropolis_within_gibbs(v_init, 1000)\n",
    "ar1, ar2"
   ]
  },
  {
   "cell_type": "code",
   "execution_count": 39,
   "metadata": {},
   "outputs": [],
   "source": [
    "mu0s = np.array([s['mu1'] for s in states])\n",
    "mu1s = np.array([s['mu2'] for s in states])\n",
    "Zs = np.vstack([s['Z'] for s in states])"
   ]
  },
  {
   "cell_type": "code",
   "execution_count": 47,
   "metadata": {},
   "outputs": [
    {
     "data": {
      "image/png": "[encoded data removed]",
      "text/plain": [
       "<Figure size 432x288 with 5 Axes>"
      ]
     },
     "metadata": {},
     "output_type": "display_data"
    }
   ],
   "source": [
    "import seaborn as sns\n",
    "\n",
    "plt.subplot(3,2,1)\n",
    "sns.kdeplot(mu0s);\n",
    "plt.subplot(3,2,2)\n",
    "plt.plot(mu0s)\n",
    "\n",
    "plt.subplot(3,2,3)\n",
    "sns.kdeplot(mu1s);\n",
    "plt.subplot(3,2,4)\n",
    "plt.plot(mu1s)\n",
    "\n",
    "plt.subplot(3,1,3)\n",
    "plt.errorbar(np.arange(20), np.mean(Zs, axis=0), yerr=np.std(Zs, axis=0))\n",
    "plt.xlim([0,20])\n",
    "plt.xticks(range(20));"
   ]
  },
  {
   "cell_type": "markdown",
   "metadata": {},
   "source": [
    "For example in notebook 3g, while we can derive the conditional probability for the latent indicator variables $Z_{i,j}$ it is very difficult to derive the conditionals for the other variables."
   ]
  },
  {
   "cell_type": "markdown",
   "metadata": {},
   "source": [
    "## References\n",
    "\n",
    "1. Andrej Karpathy, Stanford. [Ising model example](https://cs.stanford.edu/people/karpathy/visml/ising_example.html)."
   ]
  },
  {
   "cell_type": "code",
   "execution_count": null,
   "metadata": {},
   "outputs": [],
   "source": []
  }
 ],
 "metadata": {
  "anaconda-cloud": {},
  "kernelspec": {
   "display_name": "Python 3",
   "language": "python",
   "name": "python3"
  },
  "language_info": {
   "codemirror_mode": {
    "name": "ipython",
    "version": 3
   },
   "file_extension": ".py",
   "mimetype": "text/x-python",
   "name": "python",
   "nbconvert_exporter": "python",
   "pygments_lexer": "ipython3",
   "version": "3.6.4"
  },
  "latex_envs": {
   "bibliofile": "biblio.bib",
   "cite_by": "apalike",
   "current_citInitial": 1,
   "eqLabelWithNumbers": true,
   "eqNumInitial": 0
  }
 },
 "nbformat": 4,
 "nbformat_minor": 2
}
