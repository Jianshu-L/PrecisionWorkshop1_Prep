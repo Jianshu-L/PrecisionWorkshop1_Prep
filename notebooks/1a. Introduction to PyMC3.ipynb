{
 "cells": [
  {
   "cell_type": "markdown",
   "metadata": {},
   "source": [
    "# Introduction to PyMC3\n",
    "\n",
    "## Objectives and instructions for PW#1 preparation\n",
    "1. Please don't spend too much time researching individual terms you don't know.\n",
    "2. The purpose is to get a **high-level overview** overview of the workflow associated with working on Bayesian models.\n",
    "3. Lots of considerations go into designing e.g. priors but that's not the objective for this week.\n",
    "4. There is one single exercise which asks you to mess up settings for the MCMC inference. This should be a playful exercise - no need to analyze anything.\n",
    "5. Most important **this is a calibration week** - we will ask you questions about how much effort this took, whether you enjoyed it, whether you feel you have understood (at a high level) the workflow, etc.  Let's make sure we set up future sessions for success.\n",
    "6. **I hope you will have fun doing this - remember we are doing this for us.**\n",
    "\n",
    "### Reading group\n",
    "At the next reading group:\n",
    "- We will quickly go through the part for home study and resolve any questions.\n",
    "- We will solve a very simple Bayesian inference problem analytically (related to the Bayesian Clinical Trial paper previously in the reading group).  We will define the term conjugate distributions.\n",
    "- We will discuss the need for a general \"inference machine\" - sampling, variational inference.\n",
    "\n",
    "### Instructions\n",
    "Do not worry if you don't understand everything (this is likely and expected) - the idea is to get acquainted with the workflow and understand the syntax at an introductory/high level.\n",
    "\n",
    "### Constructing a Bayesian model\n",
    "\n",
    "Let's briefly cover some ideas regarding Bayesian analysis using Markov chain Monte Carlo (MCMC) methods. You might wonder why a numerical simulation method like MCMC is the standard approach for fitting Bayesian models. \n",
    "\n",
    "Gelman et al. (2013) break down the business of Bayesian analysis into three primary steps:\n",
    "\n",
    "1. Specify a full probability model, including all parameters, data, transformations, missing values and predictions that are of interest.\n",
    "2. Calculate the posterior distribution of the unknown quantities in the model, conditional on the data.\n",
    "3. Perform model checking to evaluate the quality and suitablility of the model.\n",
    "\n",
    "While each of these steps is challenging, it is the second step that is the most difficult for non-trivial models, and was a bottleneck for the adoption of Bayesian methods for decades. \n",
    "\n",
    "### Bayesian Inference\n",
    "\n",
    "At this point, we should all be familiar with **Bayes Formula**:\n",
    "\n",
    "![bayes formula](images/bayes_formula.png)\n",
    "\n",
    "The equation expresses how our belief about the value of \\\\(\\theta\\\\), as expressed by the **prior distribution** \\\\(P(\\theta)\\\\) is reallocated following the observation of the data \\\\(y\\\\), as expressed by the posterior distribution the posterior distribution.\n",
    "\n",
    "Computing the posterior distribution is called the **inference problem**, and is usually the goal of Bayesian analysis.\n",
    "\n",
    "The innocuous denominator \\\\(Pr(y)\\\\) (the model **evidence**, or **marginal likelihood**) cannot be calculated directly, and is actually the expression in the numerator, integrated over all \\\\(\\theta\\\\):\n",
    "\n",
    "<div style=\"font-size: 150%;\">  \n",
    "\\\\[Pr(\\theta|y) = \\frac{Pr(y|\\theta)Pr(\\theta)}{\\int Pr(y|\\theta)Pr(\\theta) d\\theta}\\\\]\n",
    "</div>\n",
    "\n",
    "Computing this integral, which may involve many variables, is generally intractible with analytic methods. This is the major compuational hurdle for Bayesian analysis.\n"
   ]
  },
  {
   "cell_type": "markdown",
   "metadata": {},
   "source": [
    "## A Motivating Example: Linear Regression\n",
    "\n",
    "We first consider a simple Bayesian linear regression model with normal priors for the parameters. We are interested in predicting outcomes $Y$ as normally-distributed observations with an expected value $\\mu$ that is a linear function of two predictor variables, $X_1$ and $X_2$.\n",
    "\n",
    "$$\\begin{aligned} \n",
    "Y  &\\sim \\mathcal{N}(\\mu, \\sigma^2) \\\\\n",
    "\\mu &= \\alpha + \\beta_1 X_1 + \\beta_2 X_2\n",
    "\\end{aligned}$$\n",
    "\n",
    "where $\\alpha$ is the intercept, and $\\beta_i$ is the coefficient for covariate $X_i$, while $\\sigma$ represents the observation error. Since we are constructing a Bayesian model, the unknown variables in the model must be assigned a prior distribution. We choose zero-mean normal priors with variance of 100 for both regression coefficients, which corresponds to *weak* information regarding the true parameter values. We choose a half-normal distribution (normal distribution bounded at zero) as the prior for $\\sigma$.\n",
    "\n",
    "$$\\begin{aligned} \n",
    "\\alpha &\\sim \\mathcal{N}(0, 100) \\\\\n",
    "\\beta_i &\\sim \\mathcal{N}(0, 100) \\\\\n",
    "\\sigma &\\sim \\lvert\\mathcal{N}(0, 1){\\rvert}\n",
    "\\end{aligned}$$\n",
    "\n",
    "### Generating data\n",
    "\n",
    "We simulate the (artificial) data from this model using only NumPy's `random` module.  This is an arbitrary choice, we could just have fixed arrays for $X_1$ and $X_2$."
   ]
  },
  {
   "cell_type": "code",
   "execution_count": 1,
   "metadata": {},
   "outputs": [],
   "source": [
    "import matplotlib.pyplot as plt\n",
    "%matplotlib inline \n",
    "import numpy as np"
   ]
  },
  {
   "cell_type": "code",
   "execution_count": 2,
   "metadata": {},
   "outputs": [
    {
     "data": {
      "text/plain": [
       "116.67717711236588"
      ]
     },
     "execution_count": 2,
     "metadata": {},
     "output_type": "execute_result"
    }
   ],
   "source": [
    "# Initialize random number generator\n",
    "#np.random.seed(123)\n",
    "np.random.seed(13457693)\n",
    "\n",
    "# We will generate a dataset of 100 samples.\n",
    "size = 100\n",
    "\n",
    "X1 = np.array([-1.0856306 ,  0.99734545,  0.2829785 , -1.50629471, -0.57860025,\n",
    "                1.65143654, -2.42667924, -0.42891263,  1.26593626, -0.8667404 ,\n",
    "               -0.67888615, -0.09470897,  1.49138963, -0.638902  , -0.44398196,\n",
    "               -0.43435128,  2.20593008,  2.18678609,  1.0040539 ,  0.3861864 ,\n",
    "                0.73736858,  1.49073203, -0.93583387,  1.17582904, -1.25388067,\n",
    "               -0.6377515 ,  0.9071052 , -1.4286807 , -0.14006872, -0.8617549 ,\n",
    "               -0.25561937, -2.79858911, -1.7715331 , -0.69987723,  0.92746243,\n",
    "               -0.17363568,  0.00284592,  0.68822271, -0.87953634,  0.28362732,\n",
    "               -0.80536652, -1.72766949, -0.39089979,  0.57380586,  0.33858905,\n",
    "               -0.01183049,  2.39236527,  0.41291216,  0.97873601,  2.23814334,\n",
    "               -1.29408532, -1.03878821,  1.74371223, -0.79806274,  0.02968323,\n",
    "                1.06931597,  0.89070639,  1.75488618,  1.49564414,  1.06939267,\n",
    "               -0.77270871,  0.79486267,  0.31427199, -1.32626546,  1.41729905,\n",
    "                0.80723653,  0.04549008, -0.23309206, -1.19830114,  0.19952407,\n",
    "                0.46843912, -0.83115498,  1.16220405, -1.09720305, -2.12310035,\n",
    "                1.03972709, -0.40336604, -0.12602959, -0.83751672, -1.60596276,\n",
    "                1.25523737, -0.68886898,  1.66095249,  0.80730819, -0.31475815,\n",
    "               -1.0859024 , -0.73246199, -1.21252313,  2.08711336,  0.16444123,\n",
    "                1.15020554, -1.26735205,  0.18103513,  1.17786194, -0.33501076,\n",
    "                1.03111446, -1.08456791, -1.36347154,  0.37940061, -0.37917643])\n",
    "\n",
    "\n",
    "X2 = np.array([ 0.12841094, -0.39557759,  0.14245293,  0.51966079, -0.0049252 ,\n",
    "                0.00682843,  0.0359099 , -0.37239514,  0.08522933, -0.32108195,\n",
    "               -0.08553592,  0.24857391, -0.14704339,  0.1002498 ,  0.20254781,\n",
    "                0.05574817, -0.27418969, -0.06649506,  0.39188227, -0.40500915,\n",
    "               -0.0551572 , -0.11042161,  0.02414947,  0.14964312,  0.32173819,\n",
    "               -0.05404648,  0.16246827,  0.09994803,  0.09486946, -0.11278479,\n",
    "               -0.19946429, -0.22000862, -0.15128744,  0.06433732,  0.15218988,\n",
    "                0.06469377, -0.10979102,  0.36119402,  0.30377312, -0.07080002,\n",
    "               -0.16468628,  0.02604299,  0.25345973,  0.066553  ,  0.11130974,\n",
    "               -0.04241602,  0.09125418,  0.30890889, -0.04793376,  0.02866155,\n",
    "                0.0507633 ,  0.05674507, -0.28237778, -0.37537373, -0.20393101,\n",
    "                0.03358846,  0.11077123, -0.10613491,  0.2754515 , -0.02863519,\n",
    "                0.0040632 , -0.03879277,  0.02680536,  0.14089481,  0.13313069,\n",
    "               -0.17968459,  0.30473276, -0.21900529,  0.0158454 , -0.05487931,\n",
    "               -0.20979834, -0.01502412, -0.14816275,  0.01458145,  0.08061719,\n",
    "                0.29438587,  0.06147684, -0.12224507, -0.07832396,  0.02799562,\n",
    "                0.01869217,  0.29191785,  0.27907059, -0.07178719, -0.10972843,\n",
    "               -0.51141092, -0.10978408, -0.19561154, -0.07096489,  0.07831685,\n",
    "                0.03543847, -0.0059936 ,  0.03991642, -0.02522355,  0.03940379,\n",
    "               -0.646211  , -0.0538587 , -0.02217014, -0.06825234, -0.04358925])\n",
    "\n",
    "#X1 = np.random.randn(size)\n",
    "#X2 = np.random.randn(size)*0.2\n",
    "\n",
    "# we run the random number generator for 10000 samples\n",
    "np.sum(np.random.randn(10000))"
   ]
  },
  {
   "cell_type": "markdown",
   "metadata": {},
   "source": [
    "Now we will fix values of the model parameters $\\alpha, \\beta_1, \\beta_2$ and $\\sigma$ and use those fixed values to create the observations $Y$ to build a complete dataset of triples $X_1, X_2, Y$."
   ]
  },
  {
   "cell_type": "code",
   "execution_count": 3,
   "metadata": {},
   "outputs": [
    {
     "data": {
      "text/plain": [
       "[(-1.0856306, 0.12841094, -0.784617010737888),\n",
       " (0.99734545, -0.39557759, 0.8416967147886001),\n",
       " (0.2829785, 0.14245293, 2.08368321601308),\n",
       " (-1.50629471, 0.51966079, 1.7032417143059362),\n",
       " (-0.57860025, -0.0049252, 0.5741572301504299),\n",
       " (1.65143654, 0.00682843, 1.788478425542503),\n",
       " (-2.42667924, 0.0359099, -0.9085793277050438),\n",
       " (-0.42891263, -0.37239514, 0.820963233113565),\n",
       " (1.26593626, 0.08522933, 1.1932926473907493),\n",
       " (-0.8667404, -0.32108195, -1.3184922198636428)]"
      ]
     },
     "execution_count": 3,
     "metadata": {},
     "output_type": "execute_result"
    }
   ],
   "source": [
    "# True parameter values - this is our model and what we are trying to estimate\n",
    "true_alpha, true_sigma = 1.0, 1.0\n",
    "true_beta = [1.0, 2.5]\n",
    "\n",
    "# Here is where we compute Y from the simulated X1 and X2 using the true model parameters\n",
    "# The form of the model implements the first equation above.\n",
    "noise = np.random.randn(size)*true_sigma\n",
    "Y_obs = true_alpha + true_beta[0]*X1 + true_beta[1]*X2 + noise\n",
    "\n",
    "# Let's print the first ten values of each variable.\n",
    "# In the following, each triple is one \"observation\"\n",
    "list(zip(X1[:10], X2[:10], Y_obs[:10]))"
   ]
  },
  {
   "cell_type": "markdown",
   "metadata": {},
   "source": [
    "Here is what the simulated data look like. We use the `pylab` module from the plotting library matplotlib. "
   ]
  },
  {
   "cell_type": "code",
   "execution_count": 4,
   "metadata": {},
   "outputs": [
    {
     "data": {
      "image/png": "[encoded data removed]",
      "text/plain": [
       "<matplotlib.figure.Figure at 0x10f950668>"
      ]
     },
     "metadata": {},
     "output_type": "display_data"
    }
   ],
   "source": [
    "fig, axes = plt.subplots(1, 2, sharex=True, figsize=(10,4))\n",
    "axes[0].scatter(X1, Y_obs)\n",
    "axes[1].scatter(X2, Y_obs)\n",
    "axes[0].set_ylabel('Y_obs'); axes[0].set_xlabel('X1'); axes[1].set_xlabel('X2');"
   ]
  },
  {
   "cell_type": "markdown",
   "metadata": {},
   "source": [
    "### Model Specification\n",
    "\n",
    "Specifying this model in PyMC3 is straightforward because the syntax is as close to the statistical notation. For the most part, each line of Python code corresponds to a line in the model notation above. \n",
    "\n",
    "First, we import PyMC. We use the convention of importing it as `pm`."
   ]
  },
  {
   "cell_type": "code",
   "execution_count": 5,
   "metadata": {},
   "outputs": [
    {
     "name": "stderr",
     "output_type": "stream",
     "text": [
      "/Users/vejmelka/Packages/anaconda/envs/bayes/lib/python3.6/site-packages/h5py/__init__.py:36: FutureWarning: Conversion of the second argument of issubdtype from `float` to `np.floating` is deprecated. In future, it will be treated as `np.float64 == np.dtype(float).type`.\n",
      "  from ._conv import register_converters as _register_converters\n"
     ]
    }
   ],
   "source": [
    "import pymc3 as pm"
   ]
  },
  {
   "cell_type": "markdown",
   "metadata": {},
   "source": [
    "Now we build our model, which we will present in full first, then explain each part line-by-line."
   ]
  },
  {
   "cell_type": "code",
   "execution_count": 6,
   "metadata": {},
   "outputs": [],
   "source": [
    "basic_model = pm.Model()\n",
    "\n",
    "with basic_model:\n",
    "    \n",
    "    # Priors for unknown model parameters\n",
    "    alpha = pm.Normal('alpha', mu=0, sd=10)\n",
    "    beta = pm.Normal('beta', mu=0, sd=10, shape=2)\n",
    "    sigma = pm.HalfNormal('sigma', sd=1)\n",
    "    \n",
    "    # Expected value of outcome\n",
    "    mu = alpha + beta[0]*X1 + beta[1]*X2\n",
    "    \n",
    "    # Likelihood (sampling distribution) of observations\n",
    "    Y = pm.Normal('Y_obs', mu=mu, sd=sigma, observed=Y_obs)"
   ]
  },
  {
   "cell_type": "markdown",
   "metadata": {},
   "source": [
    "The first line,\n",
    "\n",
    "```python\n",
    "basic_model = Model()\n",
    "```\n",
    "\n",
    "creates a new `Model` object which is a container for the model random variables.\n",
    "\n",
    "Following instantiation of the model, the subsequent specification of the model components is performed inside a  `with` statement:\n",
    "\n",
    "```python\n",
    "with basic_model:\n",
    "```\n",
    "This creates a *context manager*, with our `basic_model` as the context, that includes all statements until the indented block ends. This means all PyMC3 objects introduced in the indented code block below the `with` statement are added to the model behind the scenes. Absent this context manager idiom, we would be forced to manually associate each of the variables with `basic_model` right after we create them. If you try to create a new random variable without a `with model:` statement, it will raise an error since there is no obvious model for the variable to be added to.\n",
    "\n",
    "The first three statements in the context manager:\n",
    "\n",
    "```python\n",
    "alpha = Normal('alpha', mu=0, sd=10)\n",
    "beta = Normal('beta', mu=0, sd=10, shape=2)\n",
    "sigma = HalfNormal('sigma', sd=1)\n",
    "```\n",
    "create a **stochastic** random variables with a Normal prior distributions for the regression coefficients with a mean of 0 and standard deviation of 10 for the regression coefficients, and a half-normal distribution for the standard deviation of the observations, $\\sigma$. These are stochastic because their values are partly determined by its parents in the dependency graph of random variables, which for priors are simple constants, and partly random (or stochastic). \n",
    "\n",
    "We call the `Normal` constructor to create a random variable to use as a normal prior. The first argument is always the *name* of the random variable, which should almost always match the name of the Python variable being assigned to, since it sometimes used to retrieve the variable from the model for summarizing output. The remaining required arguments for a stochastic object are the parameters, in this case `mu`, the mean, and `sd`, the standard deviation, which we assign hyperparameter values for the model. In general, a distribution's parameters are values that determine the location, shape or scale of the random variable, depending on the parameterization of the distribution. Most commonly used distributions, such as `Beta`, `Exponential`, `Categorical`, `Gamma`, `Binomial` and many others, are available in PyMC3.\n",
    "\n",
    "The `beta` variable has an additional `shape` argument to denote it as a vector-valued parameter of size 2. The `shape` argument is available for all distributions and specifies the length or shape of the random variable, but is optional for scalar variables, since it defaults to a value of one. It can be an integer, to specify an array, or a tuple, to specify a multidimensional array (*e.g.* `shape=(5,7)` makes random variable that takes on 5 by 7 matrix values). \n",
    "\n",
    "Detailed notes about distributions, sampling methods and other PyMC3 functions are available via the `help` function."
   ]
  },
  {
   "cell_type": "code",
   "execution_count": 7,
   "metadata": {},
   "outputs": [
    {
     "name": "stdout",
     "output_type": "stream",
     "text": [
      "Help on class Normal in module pymc3.distributions.continuous:\n",
      "\n",
      "class Normal(pymc3.distributions.distribution.Continuous)\n",
      " |  Univariate normal log-likelihood.\n",
      " |  \n",
      " |  .. math::\n",
      " |  \n",
      " |     f(x \\mid \\mu, \\tau) =\n",
      " |         \\sqrt{\\frac{\\tau}{2\\pi}}\n",
      " |         \\exp\\left\\{ -\\frac{\\tau}{2} (x-\\mu)^2 \\right\\}\n",
      " |  \n",
      " |  ========  ==========================================\n",
      " |  Support   :math:`x \\in \\mathbb{R}`\n",
      " |  Mean      :math:`\\mu`\n",
      " |  Variance  :math:`\\dfrac{1}{\\tau}` or :math:`\\sigma^2`\n",
      " |  ========  ==========================================\n",
      " |  \n",
      " |  Normal distribution can be parameterized either in terms of precision\n",
      " |  or standard deviation. The link between the two parametrizations is\n",
      " |  given by\n",
      " |  \n",
      " |  .. math::\n",
      " |  \n",
      " |     \\tau = \\dfrac{1}{\\sigma^2}\n",
      " |  \n",
      " |  .. plot::\n",
      " |  \n",
      " |      import matplotlib.pyplot as plt\n",
      " |      import numpy as np\n",
      " |      import scipy.stats as st\n",
      " |      x = np.linspace(-5.0, 5.0, 1000)\n",
      " |      fig, ax = plt.subplots()\n",
      " |      f = lambda mu, sd : st.norm.pdf(x, loc=mu, scale=sd)\n",
      " |      plot_pdf = lambda a, b : ax.plot(x, f(a,b), label=r'$\\mu$={0}, $\\sigma$={1}'.format(a,b))\n",
      " |      plot_pdf(0.0, 0.4)\n",
      " |      plot_pdf(0.0, 1.0)\n",
      " |      plot_pdf(0.0, 2.0)\n",
      " |      plot_pdf(-2.0, 0.4)\n",
      " |      plt.legend(loc='upper right', frameon=False)\n",
      " |      ax.set(xlim=[-5,5], ylim=[0,1.2], xlabel='x', ylabel='f(x)')\n",
      " |      plt.show()\n",
      " |  \n",
      " |  Parameters\n",
      " |  ----------\n",
      " |  mu : float\n",
      " |      Mean.\n",
      " |  sd : float\n",
      " |      Standard deviation (sd > 0).\n",
      " |  tau : float\n",
      " |      Precision (tau > 0).\n",
      " |  \n",
      " |  Method resolution order:\n",
      " |      Normal\n",
      " |      pymc3.distributions.distribution.Continuous\n",
      " |      pymc3.distributions.distribution.Distribution\n",
      " |      builtins.object\n",
      " |  \n",
      " |  Methods defined here:\n",
      " |  \n",
      " |  __init__(self, mu=0, sd=None, tau=None, **kwargs)\n",
      " |      Initialize self.  See help(type(self)) for accurate signature.\n",
      " |  \n",
      " |  logp(self, value)\n",
      " |  \n",
      " |  random(self, point=None, size=None, repeat=None)\n",
      " |  \n",
      " |  ----------------------------------------------------------------------\n",
      " |  Methods inherited from pymc3.distributions.distribution.Distribution:\n",
      " |  \n",
      " |  __getnewargs__(self)\n",
      " |  \n",
      " |  __latex__ = _repr_latex_(self, name=None, dist=None)\n",
      " |      Magic method name for IPython to use for LaTeX formatting.\n",
      " |  \n",
      " |  default(self)\n",
      " |  \n",
      " |  get_test_val(self, val, defaults)\n",
      " |  \n",
      " |  getattr_value(self, val)\n",
      " |  \n",
      " |  logp_nojac(self, *args, **kwargs)\n",
      " |      Return the logp, but do not include a jacobian term for transforms.\n",
      " |      \n",
      " |      If we use different parametrizations for the same distribution, we\n",
      " |      need to add the determinant of the jacobian of the transformation\n",
      " |      to make sure the densities still describe the same distribution.\n",
      " |      However, MAP estimates are not invariant with respect to the\n",
      " |      parametrization, we need to exclude the jacobian terms in this case.\n",
      " |      \n",
      " |      This function should be overwritten in base classes for transformed\n",
      " |      distributions.\n",
      " |  \n",
      " |  logp_sum(self, *args, **kwargs)\n",
      " |      Return the sum of the logp values for the given observations.\n",
      " |      \n",
      " |      Subclasses can use this to improve the speed of logp evaluations\n",
      " |      if only the sum of the logp values is needed.\n",
      " |  \n",
      " |  ----------------------------------------------------------------------\n",
      " |  Class methods inherited from pymc3.distributions.distribution.Distribution:\n",
      " |  \n",
      " |  dist(*args, **kwargs) from builtins.type\n",
      " |  \n",
      " |  ----------------------------------------------------------------------\n",
      " |  Static methods inherited from pymc3.distributions.distribution.Distribution:\n",
      " |  \n",
      " |  __new__(cls, name, *args, **kwargs)\n",
      " |      Create and return a new object.  See help(type) for accurate signature.\n",
      " |  \n",
      " |  ----------------------------------------------------------------------\n",
      " |  Data descriptors inherited from pymc3.distributions.distribution.Distribution:\n",
      " |  \n",
      " |  __dict__\n",
      " |      dictionary for instance variables (if defined)\n",
      " |  \n",
      " |  __weakref__\n",
      " |      list of weak references to the object (if defined)\n",
      "\n"
     ]
    }
   ],
   "source": [
    "help(pm.Normal) #try help(Model), help(Uniform) or help(basic_model)"
   ]
  },
  {
   "cell_type": "markdown",
   "metadata": {},
   "source": [
    "Having defined the priors, the next statement creates the expected value `mu` of the outcomes, specifying the linear relationship:\n",
    "\n",
    "```python\n",
    "mu = alpha + beta[0]*X1 + beta[1]*X2\n",
    "```\n",
    "This creates a **deterministic** random variable, which implies that its value is *completely* determined by its parents' values. That is, there is no uncertainty beyond that which is inherent in the parents' values. Here, `mu` is just the sum of the intercept `alpha` and the two products of the coefficients in `beta` and the predictor variables, whatever their values may be. \n",
    "\n",
    "PyMC3 random variables and data can be arbitrarily added, subtracted, divided, multiplied together and indexed-into to create new random variables. This allows for great model expressivity. Many common mathematical functions like `sum`, `sin`, `exp` and linear algebra functions like `dot` (for inner product) and `inv` (for inverse) are also provided. \n",
    "\n",
    "The final line of the model, defines `Y_obs`, the sampling distribution of the outcomes in the dataset.\n",
    "\n",
    "```python\n",
    "Y_obs = Normal('Y_obs', mu=mu, sd=sigma, observed=Y)\n",
    "```\n",
    "\n",
    "This is a special case of a stochastic variable that we call an **observed stochastic**, and represents the data likelihood of the model. It is identical to a standard stochastic, except that its `observed` argument, which passes the data to the variable, indicates that the values for this variable were observed, and should not be changed by any fitting algorithm applied to the model. The data can be passed in the form of either a `numpy.ndarray` or `pandas.DataFrame` object.\n",
    "\n",
    "Notice that, unlike for the priors of the model, the parameters for the normal distribution of `Y_obs` are not fixed values, but rather are the deterministic object `mu` and the stochastic `sigma`. This creates parent-child relationships between the likelihood and these two variables."
   ]
  },
  {
   "cell_type": "markdown",
   "metadata": {},
   "source": [
    "### Model fitting\n",
    "\n",
    "Having completely specified our model, the next step is to obtain posterior estimates for the unknown variables in the model. Ideally, we could calculate the posterior estimates analytically, but for most non-trivial models, this is not feasible. We will consider two approaches, whose appropriateness depends on the structure of the model and the goals of the analysis: finding the *maximum a posteriori* (MAP) point using optimization methods, and computing summaries based on samples drawn from the posterior distribution using Markov Chain Monte Carlo (MCMC) sampling methods.\n",
    "\n",
    "#### Maximum a posteriori methods\n",
    "\n",
    "The **maximum a posteriori (MAP)** estimate for a model, is the mode of the posterior distribution and is generally found using numerical optimization methods. This is often fast and easy to do, but only gives a point estimate for the parameters and can be biased if the mode isn't representative of the distribution. PyMC3 provides this functionality with the `find_MAP` function.\n",
    "\n",
    "Below we find the MAP for our original model. The MAP is returned as a parameter **point**, which is always represented by a Python dictionary of variable names to NumPy arrays of parameter values. "
   ]
  },
  {
   "cell_type": "code",
   "execution_count": 8,
   "metadata": {},
   "outputs": [
    {
     "name": "stderr",
     "output_type": "stream",
     "text": [
      "logp = -148.07, ||grad|| = 21.737: 100%|██████████| 20/20 [00:00<00:00, 1911.19it/s]  \n"
     ]
    },
    {
     "data": {
      "text/plain": [
       "{'alpha': array(0.88402833),\n",
       " 'beta': array([0.92161283, 2.48172197]),\n",
       " 'sigma': array(0.90096691),\n",
       " 'sigma_log__': array(-0.10428675)}"
      ]
     },
     "execution_count": 8,
     "metadata": {},
     "output_type": "execute_result"
    }
   ],
   "source": [
    "map_estimate = pm.find_MAP(model=basic_model)\n",
    "    \n",
    "map_estimate"
   ]
  },
  {
   "cell_type": "markdown",
   "metadata": {},
   "source": [
    "By default, `find_MAP` uses the Broyden–Fletcher–Goldfarb–Shanno (BFGS) optimization algorithm to find the maximum of the log-posterior but also allows selection of other optimization algorithms from the `scipy.optimize` module. For example, below we use Powell's method to find the MAP."
   ]
  },
  {
   "cell_type": "code",
   "execution_count": 9,
   "metadata": {},
   "outputs": [
    {
     "name": "stderr",
     "output_type": "stream",
     "text": [
      "/Users/vejmelka/Packages/anaconda/envs/bayes/lib/python3.6/site-packages/pymc3/tuning/starting.py:91: UserWarning: In future versions, set the optimization algorithm with a string. For example, use `method=\"L-BFGS-B\"` instead of `fmin=sp.optimize.fmin_l_bfgs_b\"`.\n",
      "  warnings.warn('In future versions, set the optimization algorithm with a string. '\n",
      "logp = -303.48:   2%|▏         | 110/5000 [00:00<00:01, 3341.74it/s]"
     ]
    },
    {
     "name": "stdout",
     "output_type": "stream",
     "text": [
      "Optimization terminated successfully.\n",
      "         Current function value: 142.206311\n",
      "         Iterations: 3\n",
      "         Function evaluations: 117\n"
     ]
    },
    {
     "data": {
      "text/plain": [
       "{'alpha': array(0.88402981),\n",
       " 'beta': array([0.92161406, 2.48170977]),\n",
       " 'sigma': array(0.90096774),\n",
       " 'sigma_log__': array(-0.10428583)}"
      ]
     },
     "execution_count": 9,
     "metadata": {},
     "output_type": "execute_result"
    }
   ],
   "source": [
    "from scipy import optimize\n",
    "\n",
    "map_estimate = pm.find_MAP(model=basic_model, fmin=optimize.fmin_powell)\n",
    "    \n",
    "map_estimate"
   ]
  },
  {
   "cell_type": "markdown",
   "metadata": {},
   "source": [
    "It is important to note that the MAP estimate is not always reasonable, especially if the mode is at an extreme. This can be a subtle issue; with high dimensional posteriors, one can have areas of extremely high density but low total probability because the volume is very small. This will often occur in hierarchical models with the variance parameter for the random effect. If the individual group means are all the same, the posterior will have near infinite density if the scale parameter for the group means is almost zero, even though the probability of such a small scale parameter will be small since the group means must be extremely close together. \n",
    "\n",
    "Most techniques for finding the MAP estimate also only find a *local* optimum (which is often good enough), but can fail badly for multimodal posteriors if the different modes are meaningfully different."
   ]
  },
  {
   "cell_type": "markdown",
   "metadata": {},
   "source": [
    "#### Sampling methods\n",
    "\n",
    "Though finding the MAP is a fast and easy way of obtaining estimates of the unknown model parameters, it is limited because there is no associated estimate of uncertainty produced with the MAP estimates. Instead, a simulation-based approach such as Markov chain Monte Carlo (MCMC) can be used to obtain a Markov chain of values that, given the satisfaction of certain conditions, are indistinguishable from samples from the posterior distribution.\n",
    "\n",
    "**Note** that the sampler will by default sample 1500 samples and **throw away the first 500 samples**, as they are considered 'burn-in' samples. "
   ]
  },
  {
   "cell_type": "code",
   "execution_count": 10,
   "metadata": {},
   "outputs": [
    {
     "name": "stderr",
     "output_type": "stream",
     "text": [
      "Auto-assigning NUTS sampler...\n",
      "Initializing NUTS using jitter+adapt_diag...\n",
      "/Users/vejmelka/Packages/anaconda/envs/bayes/lib/python3.6/site-packages/pymc3/model.py:384: FutureWarning: Conversion of the second argument of issubdtype from `float` to `np.floating` is deprecated. In future, it will be treated as `np.float64 == np.dtype(float).type`.\n",
      "  if not np.issubdtype(var.dtype, float):\n",
      "logp = -303.48:   2%|▏         | 117/5000 [00:00<00:39, 123.65it/s] \n",
      "100%|██████████| 2500/2500 [00:02<00:00, 984.80it/s]\n"
     ]
    }
   ],
   "source": [
    "with basic_model:\n",
    "    # draw posterior samples\n",
    "    trace = pm.sample(draws=2000, tune=500)"
   ]
  },
  {
   "cell_type": "markdown",
   "metadata": {},
   "source": [
    "The `sample` function runs the samping methods for the given number of iterations and returns a `Trace` object containing the samples collected, in the order they were collected. The `trace` object can be queried in a similar way to a `dict` containing a map from variable names to `numpy.array`s. The first dimension of the array is the sampling index and the later dimensions match the shape of the variable. We can see the last 5 values for the `alpha` variable as follows:"
   ]
  },
  {
   "cell_type": "code",
   "execution_count": 11,
   "metadata": {},
   "outputs": [
    {
     "data": {
      "text/plain": [
       "array([0.84879086, 0.85246353, 0.85246353, 0.79827146, 0.85860672])"
      ]
     },
     "execution_count": 11,
     "metadata": {},
     "output_type": "execute_result"
    }
   ],
   "source": [
    "trace['alpha'][-5:]"
   ]
  },
  {
   "cell_type": "markdown",
   "metadata": {},
   "source": [
    "### Posterior analysis\n",
    "`PyMC3` provides plotting and summarization functions for inspecting the sampling output. A simple posterior plot can be created using `traceplot`."
   ]
  },
  {
   "cell_type": "code",
   "execution_count": 12,
   "metadata": {},
   "outputs": [
    {
     "data": {
      "image/png": "[encoded data removed]",
      "text/plain": [
       "<matplotlib.figure.Figure at 0x1c1ece52b0>"
      ]
     },
     "metadata": {},
     "output_type": "display_data"
    }
   ],
   "source": [
    "_ = pm.traceplot(trace)"
   ]
  },
  {
   "cell_type": "markdown",
   "metadata": {},
   "source": [
    "The left column consists of a smoothed histogram (using kernel density estimation) of the marginal posteriors of each stochastic random variable while the right column contains the samples of the Markov chain plotted in sequential order. The `beta` variable, being vector-valued, produces two histograms and two sample traces, corresponding to both predictor coefficients.\n",
    "\n",
    "In addition, the `summary` function provides a text-based output of common posterior statistics:"
   ]
  },
  {
   "cell_type": "markdown",
   "metadata": {},
   "source": [
    "## PW Exercise\n",
    "Can you reduce the sampling so the results are totally different? Note, the trace contains all the samples, so just go ahead and use indexing to reduce the number of samples used for posterior plot (and use samples from start) instead of going back and changing the sampling initially.\n",
    "\n",
    "- Can you make the graph on the right clearly irregular?\n",
    "- When you compare posterior estimates for the betas in your traceplot below and in the (stabilized) traceplot above, can you produce a large difference?\n",
    "- Where are the differences you see?"
   ]
  },
  {
   "cell_type": "code",
   "execution_count": 13,
   "metadata": {},
   "outputs": [
    {
     "name": "stdout",
     "output_type": "stream",
     "text": [
      "\n",
      "alpha:\n",
      "\n",
      "  Mean             SD               MC Error         95% HPD interval\n",
      "  -------------------------------------------------------------------\n",
      "  \n",
      "  0.885            0.091            0.002            [0.695, 1.061]\n",
      "\n",
      "  Posterior quantiles:\n",
      "  2.5            25             50             75             97.5\n",
      "  |--------------|==============|==============|--------------|\n",
      "  \n",
      "  0.698          0.823          0.887          0.946          1.069\n",
      "\n",
      "\n",
      "beta:\n",
      "\n",
      "  Mean             SD               MC Error         95% HPD interval\n",
      "  -------------------------------------------------------------------\n",
      "  \n",
      "  0.924            0.084            0.002            [0.751, 1.089]\n",
      "  2.485            0.473            0.009            [1.506, 3.380]\n",
      "\n",
      "  Posterior quantiles:\n",
      "  2.5            25             50             75             97.5\n",
      "  |--------------|==============|==============|--------------|\n",
      "  \n",
      "  0.752          0.869          0.923          0.978          1.091\n",
      "  1.556          2.176          2.475          2.815          3.447\n",
      "\n",
      "\n",
      "sigma:\n",
      "\n",
      "  Mean             SD               MC Error         95% HPD interval\n",
      "  -------------------------------------------------------------------\n",
      "  \n",
      "  0.929            0.069            0.001            [0.793, 1.069]\n",
      "\n",
      "  Posterior quantiles:\n",
      "  2.5            25             50             75             97.5\n",
      "  |--------------|==============|==============|--------------|\n",
      "  \n",
      "  0.802          0.884          0.927          0.971          1.080\n",
      "\n"
     ]
    }
   ],
   "source": [
    "pm.summary(trace)"
   ]
  },
  {
   "cell_type": "markdown",
   "metadata": {},
   "source": [
    "## References\n",
    "\n",
    "1. Salvatier, J., Wiecki, T. V., & Fonnesbeck, C. (2016). Probabilistic programming in Python using PyMC3. PeerJ Computer Science, 2(2), e55. http://doi.org/10.7717/peerj-cs.55\n",
    "2. Getting started with PyMC3 (Apache License). http://docs.pymc.io/notebooks/getting_started.html"
   ]
  },
  {
   "cell_type": "code",
   "execution_count": null,
   "metadata": {},
   "outputs": [],
   "source": []
  }
 ],
 "metadata": {
  "anaconda-cloud": {},
  "kernelspec": {
   "display_name": "Python 3",
   "language": "python",
   "name": "python3"
  },
  "language_info": {
   "codemirror_mode": {
    "name": "ipython",
    "version": 3
   },
   "file_extension": ".py",
   "mimetype": "text/x-python",
   "name": "python",
   "nbconvert_exporter": "python",
   "pygments_lexer": "ipython3",
   "version": "3.6.4"
  },
  "latex_envs": {
   "bibliofile": "biblio.bib",
   "cite_by": "apalike",
   "current_citInitial": 1,
   "eqLabelWithNumbers": true,
   "eqNumInitial": 0
  }
 },
 "nbformat": 4,
 "nbformat_minor": 2
}
