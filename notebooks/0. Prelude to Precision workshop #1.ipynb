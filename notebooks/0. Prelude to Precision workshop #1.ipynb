{
 "cells": [
  {
   "cell_type": "markdown",
   "metadata": {},
   "source": [
    "# Prelude to the Precision workshop\n",
    "\n",
    "This series of notebooks has been adapted from the excellent [tutorial](https://github.com/fonnesbeck/PyMC3_DataScienceLA) by [Chris Fonnesbeck](https://twitter.com/fonnesbeck?lang=en) (published under CCL 1.0) and contains material inspired by many talks and optimized for explanatory power and effectiveness.  This material is made available under the same license (CCL 1.0).\n",
    "\n",
    "Note that the much of the material is left unchanged and the credit belongs to Chris Fonnesbeck.  The original purpose of the tutorial is to introduce PyMC3 and its functionality - we hijack this a little bit to concentrate on Bayesian modelling in general using PyMC3 as a vehicle.\n",
    "\n",
    "**Hopefully this will be an enjoyable journey and learning exercise.**\n",
    "\n",
    "## Objectives\n",
    "The objective of the Preparation to the first Precision workshop is to ensure everyone on the machine learning team at CEAi reaches a given level of proficiency before the start of the Precision Workshop on Bayesian modelling in the middle of May 2018.\n",
    "\n",
    "Specific topical objectives:\n",
    "- Basic proficiency in Bayesian modelling\n",
    "  - Commonly used probability distributions\n",
    "  - Construction of models from building blocks\n",
    "  - Understanding of PyMC3 as a vehicle to accomplish above tasks\n",
    "  - Clarity on various steps needed to complete a modelling problem\n",
    "- Understanding inference via MC and MCMC\n",
    "  - The Monte Carlo approach\n",
    "  - Understanding simple algorithms for sampling complex distributions (Importance sampling, Rejection sampling, Slice sampling, ...)\n",
    "  - Markov Chain Monte Carlo as a method of estimating the posterior\n",
    "  - Understanding the Metropolis sampling algorithm in detail, debugging Metropolis, failure modes of metropolis\n",
    "- Understand the idea of variational inference\n",
    "  - What is variational inference?\n",
    "  - Major differences between MCMC and variational approach.\n",
    "  - Mean field variational inference\n",
    "  \n",
    "The methodology of working on the topics is based on a few strategies: working through the tutorial material, extra reading, coding exercises, discussions and active reading group participation.\n",
    "  \n",
    "## Precision workshop #1 target content\n",
    "  \n",
    "From there, the Precision workshop will further build upon this basis with key topics like:\n",
    "- Failure modes of advanced MCMC, diagnostics, corrections\n",
    "- Key advances in variational inference (ADVI)\n",
    "- Model checking\n",
    "- Building great models - heuristics, criticism, experiences\n",
    "- Critiquing models of immediate interest in current startups"
   ]
  }
 ],
 "metadata": {
  "kernelspec": {
   "display_name": "Python 3",
   "language": "python",
   "name": "python3"
  },
  "language_info": {
   "codemirror_mode": {
    "name": "ipython",
    "version": 3
   },
   "file_extension": ".py",
   "mimetype": "text/x-python",
   "name": "python",
   "nbconvert_exporter": "python",
   "pygments_lexer": "ipython3",
   "version": "3.6.4"
  }
 },
 "nbformat": 4,
 "nbformat_minor": 2
}
