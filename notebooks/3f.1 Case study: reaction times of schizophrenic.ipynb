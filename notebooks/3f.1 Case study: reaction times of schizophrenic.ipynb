{
 "cells": [
  {
   "cell_type": "markdown",
   "metadata": {},
   "source": [
    "# Case study: Reaction times of Schizophrenics"
   ]
  },
  {
   "cell_type": "markdown",
   "metadata": {},
   "source": [
    "## Objectives and takeaways\n",
    "1. Take a real-world experiment, write the model.\n",
    "2. Write a Metropolis sampler, including the proposal distribution.\n",
    "3. Perform inference using your sampler"
   ]
  },
  {
   "cell_type": "markdown",
   "metadata": {},
   "source": [
    "## Experiment\n",
    "\n",
    "We shall work with the experiment published in Belin and Rubin [1] in 1995 that analyzed reaction times to visual stimuli in Schizophrenia.\n",
    "\n",
    "A total of 17 volunteers performed 30 repetitions of a visual task and their reaction time was measured in milliseconds. There were 6 schizophrenics and 11 healthy volunteers.\n",
    "\n",
    "Note that in the work [1], the authors do not use a Bayesian approach for estimation but apply an EM procedure.  The priors that we define in this work must therefore be our construction.\n",
    "\n",
    "Below is the original data from the experiment, available [here](http://www.stat.columbia.edu/~gelman/book/data/schiz.asc)."
   ]
  },
  {
   "cell_type": "code",
   "execution_count": 9,
   "metadata": {},
   "outputs": [],
   "source": [
    "orig_data = \"\"\"\n",
    "312 272 350 286 268 328 298 356 292 308 296 372 396 402 280 330 254 282 350 328 332 308 292 258 340 242 306 328 294 272\n",
    "354 346 384 342 302 312 322 376 306 402 320 298 308 414 304 422 388 422 426 338 332 426 478 372 392 374 430 388 354 368\n",
    "256 284 320 274 324 268 370 430 314 312 362 256 342 388 302 366 298 396 274 226 328 274 258 220 236 272 322 284 274 356\n",
    "260 294 306 292 264 290 272 268 344 362 330 280 354 320 334 276 418 288 338 350 350 324 286 322 280 256 218 256 220 356\n",
    "204 272 250 260 314 308 246 236 208 268 272 264 308 236 238 350 272 252 252 236 306 238 350 206 260 280 274 318 268 210\n",
    "590 312 286 310 778 364 318 316 316 298 344 262 274 330 312 310 376 326 346 334 282 292 282 300 290 302 300 306 294 444\n",
    "308 364 374 278 366 310 358 380 294 334 302 250 542 340 352 322 372 348 460 322 374 370 334 360 318 356 338 346 462 510\n",
    "244 240 278 262 266 254 240 244 226 266 294 250 284 260 418 280 294 216 308 324 264 232 294 236 226 234 274 258 208 380\n",
    "232 262 230 222 210 284 232 228 264 246 264 316 260 266 304 268 384 234 308 266 294 254 222 262 278 290 208 232 206 206\n",
    "318 324 282 364 286 342 306 302 280 306 256 334 332 336 360 344 480 310 336 314 392 284 292 280 320 322 286 406 352 324\n",
    "240 292 350 254 396 430 260 320 298 312 290 248 276 364 318 434 400 382 318 298 298 248 250 234 280 306 282 234 424 244\n",
    "\n",
    "276 272 264 258 278 286 314 340 334 364 286 344 312 380 262 324 310 260 280 262 364 316 270 286 326 302 300 302 344 290\n",
    "374 466 432 376 360 454 478 382 524 410 520 470 514 354 434 380 416 384 462 386 404 362 420 360 390 356 550 372 386 396\n",
    "594 1014 1586 1344 610 838 772 264 748 1076 446 314 304 1680 1700 334 256 422 302 296 354 322 276 382 502 428 544 286 650 432\n",
    "402 466 296 348 680 702 500 500 576 624 406 378 586 826 298 882 564 656 716 380 448 506 1714 748 510 810 984 458 390 642\n",
    "620 714 414 358 460 598 324 442 372 410 998 636 968 490 696 560 562 720 618 456 502 974 1032 470 462 798 716 300 586 574\n",
    "454 388 344 226 562 766 502 432 608 516 500 796 542 458 448 404 372 524 400 366 374 350 1154 558 440 348 400 460 514 450\"\"\""
   ]
  },
  {
   "cell_type": "code",
   "execution_count": 27,
   "metadata": {},
   "outputs": [],
   "source": [
    "import numpy as np\n",
    "\n",
    "# the first 11 lines are from controls, the last 6 from schizophrenics\n",
    "def parse_data():\n",
    "    rts, idx = [], 0\n",
    "    for line in orig_data.split('\\n'):\n",
    "        if len(line) == 0: continue\n",
    "        cat = 0 if idx < 11 else 1\n",
    "        tokens = line.split(' ')\n",
    "        rts.append(list(map(int, line.split(' '))))\n",
    "    return np.array(rts), np.concatenate([np.zeros(11), np.ones(6)])\n",
    "\n",
    "rts, labels = parse_data()"
   ]
  },
  {
   "cell_type": "markdown",
   "metadata": {},
   "source": [
    "### Data description\n",
    "Patients are stored in rows. For example data in line ```rts[0,:]``` shows reaction times in milliseconds for a healthy volunteer (control group) as ```labels[0] == 0```."
   ]
  },
  {
   "cell_type": "code",
   "execution_count": 32,
   "metadata": {},
   "outputs": [
    {
     "name": "stdout",
     "output_type": "stream",
     "text": [
      "[312 272 350 286 268 328 298 356 292 308 296 372 396 402 280 330 254 282\n",
      " 350 328 332 308 292 258 340 242 306 328 294 272]\n",
      "0.0\n"
     ]
    }
   ],
   "source": [
    "print(rts[0,:])\n",
    "print(labels[0])"
   ]
  },
  {
   "cell_type": "markdown",
   "metadata": {},
   "source": [
    "### Model structure\n",
    "Below we discuss model number 1 from Belin and Rubin [1], who show 3 additional models which had progressively more structure. The other models are not discussed in this notebook.\n",
    "\n",
    "In the following, we will use the subscript $i \\in \\{1, 2, ..., 17\\}$ to denote participants and $j \\in \\{1, 2, ..., 30\\}$ to denote trials.\n",
    "\n",
    "It is assumed that each trial participant has their own mean reaction time $\\alpha_i$ and that there is a common variance in reaction time that is common to both groups $\\sigma^2$.  We know if each participat is in the control group $X_i=0$ or a schizophrenic $X_i=1$ and we observe the reaction time $Y_{i,j}$ for each participant and trial.\n",
    "\n",
    "In line with psychological theory, the authors assumed that schizophrenics behaved in the same way as the control group participants but in a proportion of the trials $\\gamma$, they had difficulty attending to the task (attentional deficit) and thus their reaction time was delayed by $\\tau$ milliseconds.\n",
    "\n",
    "We may formalize the model for the control group as follows:\n",
    "\n",
    "$$Y_{i,j} \\sim {\\cal N}(\\alpha_i, \\sigma^2)$$\n",
    "\n",
    "and for the schizophrenia group as\n",
    "\n",
    "$$Y_{i,j} \\sim {\\cal N}(\\alpha_i + Z_{i,j}\\tau, \\sigma^2),$$\n",
    "\n",
    "where $Z_{i,j}$ is a latent (unobserved)variable that denotes whether the attentional deficit was present in the trial or not.  We assume\n",
    "\n",
    "$$Z_{i,j} \\sim \\text{Bernoulli}(\\lambda).$$"
   ]
  },
  {
   "cell_type": "markdown",
   "metadata": {},
   "source": [
    "### Structure of solution\n",
    "1. Select priors for the problem (see below).\n",
    "2. Write down the structure of the model, write the ```log_prior``` and ```log_likelihood``` functions.\n",
    "3. Write a proposal distribution, function ```proposal``` to suggest a new state from current state.\n",
    "4. Write (or modify, from notebook 3f) the Metropolis sampler.\n",
    "5. Sample outputs and evaluate."
   ]
  },
  {
   "cell_type": "markdown",
   "metadata": {},
   "source": [
    "### Priors\n",
    "We can for example assume that:\n",
    "- reaction times $\\alpha$ and time delay $\\tau$ are both uniformly distributed $U[0,1500]$,\n",
    "- Any proportion of attention deficit effect is equally possible $\\lambda \\sim U[0,1]$,\n",
    "- we also assume that the variance $\\sigma^2 \\sim \\text{Inverse-Gamma}(0.1)$ (see [invgamma](https://docs.scipy.org/doc/scipy-0.15.1/reference/generated/scipy.stats.invgamma.html) in ```scipy.stats``` for definition of parameters)."
   ]
  },
  {
   "cell_type": "markdown",
   "metadata": {},
   "source": [
    "## Structure of state\n",
    "Although as much freedom should be provided to write the code, there is a recommendation below on how to structure the state variable as a dictionary because that helps clarity of the code."
   ]
  },
  {
   "cell_type": "code",
   "execution_count": 198,
   "metadata": {},
   "outputs": [
    {
     "data": {
      "text/plain": [
       "{'Zij': array([[1., 1., 1., 1., 1., 1., 1., 0., 1., 1., 1., 1., 1., 1., 0., 1.,\n",
       "         1., 1., 1., 1., 1., 0., 1., 1., 1., 1., 1., 1., 1., 1.],\n",
       "        [0., 0., 0., 1., 1., 1., 1., 1., 1., 1., 1., 1., 1., 1., 1., 1.,\n",
       "         1., 1., 1., 0., 1., 1., 1., 1., 1., 1., 0., 1., 1., 0.],\n",
       "        [1., 1., 1., 0., 1., 0., 1., 1., 0., 1., 1., 1., 1., 1., 0., 1.,\n",
       "         1., 1., 1., 1., 1., 1., 1., 1., 1., 1., 1., 1., 1., 0.],\n",
       "        [1., 1., 1., 1., 1., 1., 0., 1., 1., 1., 1., 1., 0., 1., 1., 1.,\n",
       "         1., 1., 1., 1., 1., 1., 1., 1., 1., 1., 1., 1., 1., 1.],\n",
       "        [1., 0., 1., 1., 1., 1., 1., 1., 1., 0., 1., 1., 1., 1., 1., 1.,\n",
       "         1., 1., 1., 1., 1., 1., 1., 1., 0., 1., 1., 1., 1., 1.],\n",
       "        [0., 1., 1., 1., 1., 1., 1., 1., 1., 1., 1., 1., 1., 1., 0., 1.,\n",
       "         0., 1., 1., 1., 1., 1., 1., 1., 1., 1., 1., 1., 1., 1.],\n",
       "        [0., 0., 0., 1., 1., 1., 1., 1., 1., 1., 1., 1., 1., 1., 1., 1.,\n",
       "         1., 1., 1., 0., 0., 0., 1., 1., 1., 1., 1., 1., 1., 1.],\n",
       "        [1., 1., 1., 1., 1., 1., 1., 1., 1., 1., 1., 1., 1., 1., 1., 1.,\n",
       "         1., 1., 0., 1., 0., 1., 1., 1., 1., 1., 0., 1., 0., 0.],\n",
       "        [1., 1., 1., 1., 1., 1., 1., 1., 1., 0., 1., 0., 1., 1., 1., 1.,\n",
       "         1., 1., 1., 0., 1., 1., 1., 1., 0., 1., 1., 1., 1., 1.],\n",
       "        [1., 0., 1., 1., 1., 1., 1., 1., 1., 0., 1., 0., 1., 1., 1., 1.,\n",
       "         0., 1., 1., 0., 0., 0., 0., 1., 1., 1., 1., 1., 1., 0.],\n",
       "        [0., 1., 0., 1., 0., 1., 1., 1., 1., 1., 0., 0., 1., 1., 0., 1.,\n",
       "         0., 1., 0., 1., 1., 1., 1., 1., 1., 1., 1., 1., 1., 1.],\n",
       "        [1., 1., 1., 0., 1., 1., 1., 1., 1., 0., 1., 1., 0., 1., 1., 1.,\n",
       "         1., 1., 1., 1., 1., 0., 1., 1., 1., 1., 1., 1., 1., 1.],\n",
       "        [1., 1., 1., 1., 1., 1., 1., 1., 1., 1., 1., 1., 0., 1., 1., 1.,\n",
       "         1., 0., 1., 1., 1., 1., 1., 0., 0., 1., 1., 1., 1., 0.],\n",
       "        [0., 0., 1., 1., 0., 1., 1., 0., 1., 1., 1., 1., 1., 1., 1., 1.,\n",
       "         1., 1., 0., 1., 1., 1., 1., 1., 1., 1., 1., 1., 1., 0.],\n",
       "        [1., 1., 1., 0., 1., 1., 1., 1., 0., 0., 1., 1., 1., 1., 0., 1.,\n",
       "         1., 1., 1., 1., 1., 1., 1., 1., 1., 1., 0., 0., 1., 1.],\n",
       "        [1., 1., 0., 0., 1., 1., 1., 1., 1., 1., 1., 0., 0., 1., 0., 1.,\n",
       "         1., 1., 1., 0., 1., 1., 1., 1., 1., 0., 1., 1., 1., 1.],\n",
       "        [1., 1., 1., 1., 1., 1., 1., 0., 1., 1., 1., 1., 0., 1., 1., 1.,\n",
       "         1., 0., 0., 1., 1., 1., 1., 1., 1., 1., 0., 1., 1., 1.]]),\n",
       " 'alphas': array([ 736.34791493, 1399.34955974, 1150.86595467,  413.57031263,\n",
       "        1435.48040743,  393.45614437,  264.3990262 ,  235.07916918,\n",
       "        1351.36577965,  345.89968079, 1499.24722819,  357.80138154,\n",
       "         224.69622274,   68.30582569,  562.29608802, 1336.40379107,\n",
       "        1090.57171712]),\n",
       " 'lambda': 0.8406080371365187,\n",
       " 'sigma2': 7902.490890100855,\n",
       " 'tau': 111.73780484629393}"
      ]
     },
     "execution_count": 198,
     "metadata": {},
     "output_type": "execute_result"
    }
   ],
   "source": [
    "# setup the initial point\n",
    "lam = np.random.uniform()\n",
    "\n",
    "v_init = { 'alphas': np.random.uniform(low=0, high=1500, size=Np),\n",
    "           'tau': np.random.uniform(low=0, high=1000),\n",
    "           'sigma2': sigma2_rv.rvs(),\n",
    "           'lambda' : lam,\n",
    "           'Zij': np.where(np.random.uniform(size=(Np,Nt)) < lam, np.ones((Np,Nt)), np.zeros((Np,Nt)))\n",
    "         }\n",
    "\n",
    "v_init"
   ]
  },
  {
   "cell_type": "code",
   "execution_count": null,
   "metadata": {},
   "outputs": [],
   "source": []
  }
 ],
 "metadata": {
  "kernelspec": {
   "display_name": "Python 3",
   "language": "python",
   "name": "python3"
  },
  "language_info": {
   "codemirror_mode": {
    "name": "ipython",
    "version": 3
   },
   "file_extension": ".py",
   "mimetype": "text/x-python",
   "name": "python",
   "nbconvert_exporter": "python",
   "pygments_lexer": "ipython3",
   "version": "3.6.4"
  }
 },
 "nbformat": 4,
 "nbformat_minor": 2
}
